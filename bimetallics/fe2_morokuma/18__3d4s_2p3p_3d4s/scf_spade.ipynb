{
 "cells": [
  {
   "cell_type": "code",
   "execution_count": 1,
   "id": "872297e4-9d52-4b71-981b-9849bfa969ff",
   "metadata": {},
   "outputs": [],
   "source": [
    "import pyscf\n",
    "import pyscf.tools\n",
    "import scipy\n",
    "import numpy as np\n",
    "\n",
    "from orbitalpartitioning import *"
   ]
  },
  {
   "cell_type": "code",
   "execution_count": 4,
   "id": "38a92200-02bd-4e3d-8a8b-39cae17e095c",
   "metadata": {},
   "outputs": [
    {
     "name": "stdout",
     "output_type": "stream",
     "text": [
      "symmetry:  C2\n",
      "\n",
      "\n",
      "******** <class 'pyscf.scf.hf_symm.SymAdaptedROHF'> Newton solver flags ********\n",
      "SCF tol = 1e-08\n",
      "conv_tol_grad = 1e-05\n",
      "max. SCF cycles = 200\n",
      "direct_scf = True\n",
      "direct_scf_tol = 1e-13\n",
      "chkfile to save SCF result = scf.fchk\n",
      "max_cycle_inner = 12\n",
      "max_stepsize = 0.05\n",
      "ah_start_tol = 1e+09\n",
      "ah_level_shift = 0\n",
      "ah_conv_tol = 1e-12\n",
      "ah_lindep = 1e-14\n",
      "ah_start_cycle = 1\n",
      "ah_max_cycle = 40\n",
      "ah_grad_trust_region = 2.5\n",
      "kf_interval = 4\n",
      "kf_trust_region = 5\n",
      "canonicalization = True\n",
      "max_memory 4000 MB (current use 147 MB)\n",
      "HOMO (B) = 0.318236980196595  LUMO (A) = 0.320979897364206\n",
      "Initial guess E= -5347.0130535218  |g|= 4.92607\n",
      "macro= 0  E= -5354.09525943033  delta_E= -7.08221  |g|= 1.2839  3 KF 15 JK\n",
      "macro= 1  E= -5354.99700870197  delta_E= -0.901749  |g|= 0.380059  3 KF 16 JK\n",
      "macro= 2  E= -5355.40185091219  delta_E= -0.404842  |g|= 0.324421  3 KF 17 JK\n",
      "macro= 3  E= -5355.82121744053  delta_E= -0.419367  |g|= 0.146705  3 KF 18 JK\n",
      "macro= 4  E= -5355.88710224331  delta_E= -0.0658848  |g|= 0.199741  2 KF 7 JK\n",
      "macro= 5  E= -5355.88866617962  delta_E= -0.00156394  |g|= 4.38019e-05  4 KF 16 JK\n",
      "macro= 6  E= -5355.88866617961  delta_E= 9.09495e-12  |g|= 2.71225e-06  1 KF 2 JK\n",
      "Canonicalize SCF orbitals\n",
      "macro X = 7  E=-5355.88866617961  |g|= 2.71225e-06  total 20 KF 99 JK\n",
      "converged SCF energy = -5355.88866617961\n",
      " Hartree-Fock Energy: -5355.88866618\n"
     ]
    }
   ],
   "source": [
    "molecule = \"\"\"\n",
    " Fe 1.67785607 0.00052233 0.06475932\n",
    " O 0.00000000 0.00000000 -0.47099074\n",
    " Fe -1.67785607 -0.00052233 0.06475932\n",
    " Cl 1.87002704 -1.09796437 1.99091682\n",
    " Cl 2.93244917 -0.98210488 -1.47467288\n",
    " Cl 2.37160936 2.07954091 -0.50446591\n",
    " Cl -1.87002704 1.09796437 1.99091682\n",
    " Cl -2.93244917 0.98210488 -1.47467288\n",
    " Cl -2.37160936 -2.07954091 -0.50446591\n",
    "\"\"\"\n",
    "\n",
    "basis = \"def2-svp\"\n",
    "pymol = pyscf.gto.Mole(\n",
    "        atom    =   molecule,\n",
    "        symmetry=   True,\n",
    "        spin    =   10, # number of unpaired electrons\n",
    "        charge  =   -2,\n",
    "        basis   =   basis)\n",
    "\n",
    "\n",
    "pymol.build()\n",
    "print(\"symmetry: \",pymol.topgroup)\n",
    "# mf = pyscf.scf.UHF(pymol).x2c()\n",
    "mf = pyscf.scf.ROHF(pymol).newton()\n",
    "mf.verbose = 4\n",
    "mf.conv_tol = 1e-8\n",
    "mf.conv_tol_grad = 1e-5\n",
    "mf.chkfile = \"scf.fchk\"\n",
    "mf.init_guess = \"sad\"\n",
    "\n",
    "mf.run(max_cycle=200)\n",
    "\n",
    "print(\" Hartree-Fock Energy: %12.8f\" % mf.e_tot)\n",
    "# mf.analyze()\n",
    "\n",
    "# Get data\n",
    "F = mf.get_fock()\n",
    "C = mf.mo_coeff\n",
    "S = mf.get_ovlp()\n",
    "ndocc = mf.nelec[1]\n",
    "nsing = mf.nelec[0] - ndocc\n",
    "nvirt = mf.mol.nao - ndocc - nsing\n",
    "\n",
    "# Just use alpha orbitals\n",
    "Cdocc = mf.mo_coeff[:,0:ndocc]\n",
    "Csing = mf.mo_coeff[:,ndocc:ndocc+nsing]\n",
    "Cvirt = mf.mo_coeff[:,ndocc+nsing:ndocc+nsing+nvirt]\n",
    "\n",
    "nbas = Cdocc.shape[0]"
   ]
  },
  {
   "attachments": {},
   "cell_type": "markdown",
   "id": "926bfd1b",
   "metadata": {},
   "source": [
    "# Define Fragments by AOs"
   ]
  },
  {
   "cell_type": "code",
   "execution_count": 6,
   "id": "45633353-ae0c-47b2-ae89-8d9a66039cd9",
   "metadata": {
    "tags": []
   },
   "outputs": [
    {
     "name": "stdout",
     "output_type": "stream",
     "text": [
      "[[3, 14, 15, 16, 17, 18], [34, 35, 36, 37, 38, 39], [48, 59, 60, 61, 62, 63]]\n"
     ]
    }
   ],
   "source": [
    "# Find AO's corresponding to atoms\n",
    "full = []\n",
    "frag1 = []\n",
    "frag2 = []\n",
    "frag3 = []\n",
    "for ao_idx,ao in enumerate(mf.mol.ao_labels(fmt=False)):\n",
    "    if ao[0] == 0:\n",
    "        if ao[2] in (\"3d\", \"4s\"):\n",
    "            frag1.append(ao_idx)\n",
    "            full.append(ao_idx)\n",
    "    elif ao[0] == 1:\n",
    "        if ao[2] in (\"2p\",\"3p\"):\n",
    "            frag2.append(ao_idx)\n",
    "            full.append(ao_idx)\n",
    "    elif ao[0] == 2:\n",
    "        if ao[2] in (\"3d\", \"4s\"):\n",
    "            frag3.append(ao_idx)\n",
    "            full.append(ao_idx)\n",
    "\n",
    "\n",
    "frags = [frag1, frag2, frag3]\n",
    "print(frags)\n"
   ]
  },
  {
   "attachments": {},
   "cell_type": "markdown",
   "id": "3efb9920",
   "metadata": {},
   "source": [
    "# Define Projectors\n",
    "We can choose to project onto the non-orthogonal AOs, or onto the symmetrically orthogonalized AOs."
   ]
  },
  {
   "cell_type": "code",
   "execution_count": 7,
   "id": "398f646b",
   "metadata": {},
   "outputs": [],
   "source": [
    "# Define projectors\n",
    "X = scipy.linalg.sqrtm(S)\n",
    "X = np.eye(nbas) \n",
    "Pfull = X[:,full]  # non-orthogonal\n",
    "Pf = []\n",
    "for f in frags:\n",
    "    Pf.append(X[:,f])\n"
   ]
  },
  {
   "attachments": {},
   "cell_type": "markdown",
   "id": "841d2ce9",
   "metadata": {},
   "source": [
    "# Project MOs onto all fragments\n",
    "For each orbital block (Docc, Sing, Virt), project each subspace onto the full list of fragment AOs. This will determine our full active space."
   ]
  },
  {
   "cell_type": "code",
   "execution_count": 8,
   "id": "b5553884",
   "metadata": {},
   "outputs": [
    {
     "name": "stdout",
     "output_type": "stream",
     "text": [
      " Partition  184 orbitals into a total of   18 orbitals\n",
      "            Index   Sing. Val. Space       \n",
      "                0   1.50934548            2*\n",
      "                1   1.41582271            2*\n",
      "                2   1.40991659            2*\n",
      "                3   1.13042337            0*\n",
      "                4   0.97455806            1*\n",
      "                5   0.97130876            1*\n",
      "                6   0.97073165            1*\n",
      "                7   0.96871902            1*\n",
      "                8   0.96790716            1*\n",
      "                9   0.95877868            1*\n",
      "               10   0.95763740            1*\n",
      "               11   0.95709205            1*\n",
      "               12   0.94484108            1*\n",
      "               13   0.94464798            1*\n",
      "               14   0.82369819            0*\n",
      "               15   0.81370206            0*\n",
      "               16   0.77579159            0*\n",
      "               17   0.77265666            0*\n",
      "               18   0.66680021            2\n",
      "               19   0.51975144            2\n",
      "               20   0.43927691            0\n",
      "               21   0.26418300            0\n",
      "               22   0.26386646            0\n",
      "               23   0.22712997            2\n",
      "               24   0.22298376            2\n",
      "               25   0.22223943            2\n",
      "               26   0.22053543            2\n",
      "               27   0.22024527            2\n",
      "               28   0.21991662            2\n",
      "               29   0.21612280            2\n",
      "               30   0.21311510            2\n",
      "               31   0.21160794            0\n",
      "               32   0.20462049            0\n",
      "               33   0.19783333            2\n",
      "               34   0.19725296            2\n",
      "               35   0.18796470            0\n",
      "               36   0.15251705            0\n",
      "               37   0.13240889            0\n",
      "               38   0.11580712            0\n",
      "               39   0.11325684            0\n",
      "               40   0.10268686            0\n",
      "               41   0.09635545            0\n",
      "               42   0.09349702            0\n",
      "               43   0.06875932            2\n",
      "               44   0.06856241            2\n",
      "               45   0.03606983            2\n"
     ]
    }
   ],
   "source": [
    "(Oact, Sact, Vact), (Cenv, Cerr, _) = svd_subspace_partitioning((Cdocc, Csing, Cvirt), Pfull, S)\n",
    "assert(Cerr.shape[1] == 0)\n",
    "Cact = np.hstack((Oact, Sact, Vact))"
   ]
  },
  {
   "attachments": {},
   "cell_type": "markdown",
   "id": "d58103c3",
   "metadata": {},
   "source": [
    "# Split active space into fragments"
   ]
  },
  {
   "cell_type": "code",
   "execution_count": 9,
   "id": "5f16720a",
   "metadata": {},
   "outputs": [
    {
     "name": "stdout",
     "output_type": "stream",
     "text": [
      "\n",
      " Fragment:  [3, 14, 15, 16, 17, 18]\n",
      " Partition   18 orbitals into a total of    6 orbitals\n",
      "            Index   Sing. Val. Space       \n",
      "                0   0.96411301            1*\n",
      "                1   0.96131383            1*\n",
      "                2   0.95024086            1*\n",
      "                3   0.94032424            1*\n",
      "                4   0.92632666            1*\n",
      "                5   0.83009269            0*\n",
      "                6   0.25082683            0\n",
      "                7   0.16519458            0\n",
      "                8   0.15599810            0\n",
      "                9   0.04618792            2\n",
      "               10   0.04433050            2\n",
      "               11   0.03063804            2\n",
      "               12   0.02633973            1\n",
      "               13   0.00412583            0\n",
      "\n",
      " Fragment:  [34, 35, 36, 37, 38, 39]\n",
      " Partition   18 orbitals into a total of    6 orbitals\n",
      "            Index   Sing. Val. Space       \n",
      "                0   1.39744886            2*\n",
      "                1   1.38808865            2*\n",
      "                2   1.23688176            2*\n",
      "                3   0.79538070            0*\n",
      "                4   0.79389102            0*\n",
      "                5   0.78576333            0*\n",
      "                6   0.24262750            1\n",
      "                7   0.23305626            1\n",
      "                8   0.23099693            1\n",
      "                9   0.13903644            0\n",
      "               10   0.07176148            0\n",
      "               11   0.03399849            1\n",
      "               12   0.02771397            1\n",
      "               13   0.00862735            1\n",
      "\n",
      " Fragment:  [48, 59, 60, 61, 62, 63]\n",
      " Partition   18 orbitals into a total of    6 orbitals\n",
      "            Index   Sing. Val. Space       \n",
      "                0   0.96411301            1*\n",
      "                1   0.96131383            1*\n",
      "                2   0.95024086            1*\n",
      "                3   0.94032424            1*\n",
      "                4   0.92632666            1*\n",
      "                5   0.83009269            0*\n",
      "                6   0.25082683            0\n",
      "                7   0.16519458            0\n",
      "                8   0.15599810            0\n",
      "                9   0.04618792            2\n",
      "               10   0.04433050            2\n",
      "               11   0.03063804            2\n",
      "               12   0.02633973            1\n",
      "               13   0.00412583            0\n",
      "\n",
      "WARN: orbitals [ 0  1  2  3  4  5 12 13 14 15 16 17] not symmetrized, norm = [0.57950892 0.5        0.5        0.5        0.5        0.5\n",
      " 0.57950892 0.5        0.5        0.5        0.5        0.5       ]\n",
      "\n",
      "\n",
      "WARN: orbitals [ 0  1  2  3  4  5 12 13 14 15 16 17] not symmetrized, norm = [0.5 0.5 0.5 0.5 0.5 0.5 0.5 0.5 0.5 0.5 0.5 0.5]\n",
      "\n",
      "\n",
      "WARN: orbitals [13 14 15 16 17 18 19 20 21 22 23 24 25 26 27 28 29 30 31 32 33 34 35 36\n",
      " 37 38 39 40 41 42 43 44 45 46 47 48 49 50 51 52 53 54 55 56 57 58 59 60\n",
      " 61 62 63 64 65 66 67 68 69 70] not symmetrized, norm = [0.74424524 0.63874256 0.71315066 0.56484721 0.74376205 0.58332688\n",
      " 0.62596519 0.59277631 0.64850107 0.66118295 0.74105986 0.5874204\n",
      " 0.67813278 0.5429728  0.59391834 0.62297992 0.89024496 0.71251445\n",
      " 0.71329544 0.66087804 0.75634659 0.50768445 0.76252273 0.54667082\n",
      " 0.66754962 0.72737318 0.82488503 0.64888699 0.95065413 0.78547001\n",
      " 0.66909266 0.72808265 0.66172596 0.60226957 0.52121743 0.69039736\n",
      " 0.6847732  0.54165689 0.51918336 0.77831435 0.72841971 0.52435731\n",
      " 0.73683253 0.71688573 0.6213592  0.56269607 0.56377961 0.53499775\n",
      " 0.57373434 0.57012674 0.55791798 0.5731973  0.88518191 0.51364332\n",
      " 0.83154282 0.55909844 0.67211355 0.53799498]\n",
      "\n",
      "\n",
      "WARN: orbitals [0 1 2 3 4 5] not symmetrized, norm = [0.5 0.5 0.5 0.5 0.5 0.5]\n",
      "\n",
      "\n",
      "WARN: orbitals [0 1 2 3 4 5] not symmetrized, norm = [0.5 0.5 0.5 0.5 0.5 0.5]\n",
      "\n",
      " init_fspace =  [(6, 1), (3, 3), (6, 1)]\n",
      " clusters    =  [[1, 2, 3, 4, 5, 6], [7, 8, 9, 10, 11, 12], [13, 14, 15, 16, 17, 18]]\n"
     ]
    }
   ],
   "source": [
    "# Project active orbitals onto fragments\n",
    "init_fspace = []\n",
    "clusters = []\n",
    "Cfrags = []\n",
    "orb_index = 1\n",
    "\n",
    "# import pickle\n",
    "\n",
    "# data = {}\n",
    "# data[\"Pf\"] = Pf \n",
    "# data[\"Cdocc\"] = Cdocc\n",
    "# data[\"Csing\"] = Csing\n",
    "# data[\"Cvirt\"] = Cvirt\n",
    "# data[\"S\"] = S\n",
    "# data[\"frags\"] = frags \n",
    "\n",
    "for fi,f in enumerate(frags):\n",
    "    print()\n",
    "    print(\" Fragment: \", f)\n",
    "    (Of, Sf, Vf), (_, _, _) = svd_subspace_partitioning((Oact, Sact, Vact), Pf[fi], S)\n",
    "    Cfrags.append(np.hstack((Of, Sf, Vf)))\n",
    "    ndocc_f = Of.shape[1]\n",
    "    init_fspace.append((ndocc_f+Sf.shape[1], ndocc_f))\n",
    "    nmof = Of.shape[1] + Sf.shape[1] + Vf.shape[1]\n",
    "    clusters.append(list(range(orb_index, orb_index+nmof)))\n",
    "    orb_index += nmof\n",
    "\n",
    "\n",
    "\n",
    "# Orthogonalize Fragment orbitals\n",
    "Cfrags = sym_ortho(Cfrags, S)\n",
    "\n",
    "Cact = np.hstack(Cfrags)\n",
    "\n",
    "# Write Molden files for visualization\n",
    "pyscf.tools.molden.from_mo(mf.mol, \"Pfull.molden\", Pfull)\n",
    "pyscf.tools.molden.from_mo(mf.mol, \"Cact.molden\", Cact)\n",
    "pyscf.tools.molden.from_mo(mf.mol, \"Cenv.molden\", Cenv)\n",
    "for i in range(len(frags)):\n",
    "    pyscf.tools.molden.from_mo(mf.mol, \"Cfrag%i.molden\"%i, Cfrags[i])\n",
    "\n",
    "print(\" init_fspace = \", init_fspace)\n",
    "print(\" clusters    = \", clusters)\n",
    "\n",
    "\n",
    "# data[\"Cact\"] = Cact\n",
    "# data[\"init_fspace\"] = init_fspace \n",
    "# data[\"clusters\"] = clusters \n",
    "# with open('data_CrOCr.pickle', 'wb') as handle:\n",
    "#     pickle.dump(data, handle)\n"
   ]
  },
  {
   "attachments": {},
   "cell_type": "markdown",
   "id": "91dc633f-ee84-4875-bfed-57c9c3d7d0a6",
   "metadata": {},
   "source": [
    "# Make Integrals"
   ]
  },
  {
   "cell_type": "code",
   "execution_count": 10,
   "id": "eb3ac06f-7e94-420f-9635-6f64f27c7f05",
   "metadata": {},
   "outputs": [
    {
     "name": "stdout",
     "output_type": "stream",
     "text": [
      "(184, 72)\n",
      "(184, 18)\n",
      "(184, 184)\n"
     ]
    }
   ],
   "source": [
    "print(Cenv.shape)\n",
    "print(Cact.shape)\n",
    "d1_embed = 2 * Cenv @ Cenv.T\n",
    "\n",
    "h0 = pyscf.gto.mole.energy_nuc(mf.mol)\n",
    "h  = pyscf.scf.hf.get_hcore(mf.mol)\n",
    "j, k = pyscf.scf.hf.get_jk(mf.mol, d1_embed, hermi=1)\n",
    "\n",
    "print(h.shape)"
   ]
  },
  {
   "cell_type": "code",
   "execution_count": 11,
   "id": "130e7b7f-697e-4448-81f2-458931b4de8d",
   "metadata": {},
   "outputs": [],
   "source": [
    "h0 += np.trace(d1_embed @ ( h + .5*j - .25*k))\n",
    "\n",
    "h = Cact.T @ h @ Cact;\n",
    "j = Cact.T @ j @ Cact;\n",
    "k = Cact.T @ k @ Cact;"
   ]
  },
  {
   "cell_type": "code",
   "execution_count": 12,
   "id": "5047dda7-d4cc-4460-9f5a-0b34b7f16787",
   "metadata": {},
   "outputs": [],
   "source": [
    "nact = h.shape[0]\n",
    "\n",
    "h2 = pyscf.ao2mo.kernel(pymol, Cact, aosym=\"s4\", compact=False)\n",
    "h2.shape = (nact, nact, nact, nact)"
   ]
  },
  {
   "cell_type": "code",
   "execution_count": 13,
   "id": "eb9d44fb-b0ea-48c6-affd-481fc3405daa",
   "metadata": {},
   "outputs": [],
   "source": [
    "# The use of d1_embed only really makes sense if it has zero electrons in the\n",
    "# active space. Let's warn the user if that's not true\n",
    "\n",
    "S = pymol.intor(\"int1e_ovlp_sph\")\n",
    "n_act = np.trace(S @ d1_embed @ S @ Cact @ Cact.T)\n",
    "if abs(n_act) > 1e-8 == False:\n",
    "    print(n_act)\n",
    "    error(\" I found embedded electrons in the active space?!\")\n",
    "\n",
    "h1 = h + j - .5*k;\n"
   ]
  },
  {
   "cell_type": "code",
   "execution_count": 14,
   "id": "48548fca-bae3-46ea-94a6-fa73553eb91d",
   "metadata": {},
   "outputs": [],
   "source": [
    "np.save(\"ints_h0\", h0)\n",
    "np.save(\"ints_h1\", h1)\n",
    "np.save(\"ints_h2\", h2)\n",
    "np.save(\"mo_coeffs\", Cact)\n",
    "np.save(\"overlap_mat\", S)\n",
    "\n",
    "Pa = mf.make_rdm1()[0]\n",
    "Pb = mf.make_rdm1()[1]\n",
    "np.save(\"Pa\", Cact.T @ S @ Pa @ S @ Cact)\n",
    "np.save(\"Pb\", Cact.T @ S @ Pb @ S @ Cact)"
   ]
  },
  {
   "cell_type": "code",
   "execution_count": 15,
   "id": "0fa167fc",
   "metadata": {},
   "outputs": [
    {
     "name": "stdout",
     "output_type": "stream",
     "text": [
      "\n",
      "WARN: orbitals [ 0  1  2  3  4  5 12 13 14 15 16 17] not symmetrized, norm = [0.5 0.5 0.5 0.5 0.5 0.5 0.5 0.5 0.5 0.5 0.5 0.5]\n",
      "\n"
     ]
    }
   ],
   "source": [
    "import numpy as np\n",
    "Ccmf = np.load(\"Ccmf_18.npy\")\n",
    "pyscf.tools.molden.from_mo(mf.mol, \"Ccmf_18.molden\", Ccmf)\n"
   ]
  },
  {
   "cell_type": "code",
   "execution_count": null,
   "id": "14c9dc36",
   "metadata": {},
   "outputs": [],
   "source": []
  }
 ],
 "metadata": {
  "kernelspec": {
   "display_name": "Python 3 (ipykernel)",
   "language": "python",
   "name": "python3"
  },
  "language_info": {
   "codemirror_mode": {
    "name": "ipython",
    "version": 3
   },
   "file_extension": ".py",
   "mimetype": "text/x-python",
   "name": "python",
   "nbconvert_exporter": "python",
   "pygments_lexer": "ipython3",
   "version": "3.10.6"
  }
 },
 "nbformat": 4,
 "nbformat_minor": 5
}
