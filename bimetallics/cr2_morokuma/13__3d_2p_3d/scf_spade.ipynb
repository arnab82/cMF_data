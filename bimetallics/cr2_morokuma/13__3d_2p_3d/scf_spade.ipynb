{
 "cells": [
  {
   "cell_type": "code",
   "execution_count": 1,
   "id": "872297e4-9d52-4b71-981b-9849bfa969ff",
   "metadata": {},
   "outputs": [],
   "source": [
    "import pyscf\n",
    "import pyscf.tools\n",
    "\n",
    "from orbitalpartitioning import *"
   ]
  },
  {
   "cell_type": "code",
   "execution_count": 2,
   "id": "38a92200-02bd-4e3d-8a8b-39cae17e095c",
   "metadata": {},
   "outputs": [
    {
     "name": "stdout",
     "output_type": "stream",
     "text": [
      "symmetry:  C1\n",
      "\n",
      "\n",
      "******** <class 'pyscf.scf.rohf.ROHF'> ********\n",
      "method = ROHF-RHF\n",
      "initial guess = sad\n",
      "damping factor = 0\n",
      "level_shift factor = 0\n",
      "DIIS = <class 'pyscf.scf.diis.CDIIS'>\n",
      "diis_start_cycle = 1\n",
      "diis_space = 8\n",
      "SCF conv_tol = 1e-08\n",
      "SCF conv_tol_grad = 1e-05\n",
      "SCF max_cycles = 200\n",
      "direct_scf = True\n",
      "direct_scf_tol = 1e-13\n",
      "chkfile to save SCF result = scf.fchk\n",
      "max_memory 4000 MB (current use 123 MB)\n",
      "num. doubly occ = 73  num. singly occ = 6\n",
      "init E= -2722.30649096234\n",
      "  HOMO = -0.180893429449344  LUMO = -0.0912350732357823\n",
      "cycle= 1 E= -2721.10285451241  delta_E=  1.2  |g|= 1.19  |ddm|= 4.33\n",
      "  HOMO = -0.484313365416467  LUMO = -0.390433229329977\n",
      "cycle= 2 E= -2721.51059453132  delta_E= -0.408  |g|= 0.767  |ddm|= 1.34\n",
      "  HOMO = -0.605933393834224  LUMO = -0.395171397843428\n",
      "cycle= 3 E= -2721.64016454842  delta_E= -0.13  |g|= 0.325  |ddm|= 0.681\n",
      "  HOMO = -0.651450051333528  LUMO = -0.39022684906354\n",
      "cycle= 4 E= -2721.66317490064  delta_E= -0.023  |g|= 0.105  |ddm|= 0.295\n",
      "  HOMO = -0.626041834704234  LUMO = -0.388861061598244\n",
      "cycle= 5 E= -2721.66730655484  delta_E= -0.00413  |g|= 0.0363  |ddm|= 0.13\n",
      "  HOMO = -0.639690862839994  LUMO = -0.388769032116068\n",
      "cycle= 6 E= -2721.66780861018  delta_E= -0.000502  |g|= 0.00699  |ddm|= 0.0515\n",
      "  HOMO = -0.639069790619979  LUMO = -0.388798904580359\n",
      "cycle= 7 E= -2721.66783418885  delta_E= -2.56e-05  |g|= 0.00242  |ddm|= 0.0153\n",
      "  HOMO = -0.6392635974992  LUMO = -0.388820956735671\n",
      "cycle= 8 E= -2721.66784052263  delta_E= -6.33e-06  |g|= 0.000678  |ddm|= 0.00812\n",
      "  HOMO = -0.639258356749011  LUMO = -0.388810397975132\n",
      "cycle= 9 E= -2721.66784092493  delta_E= -4.02e-07  |g|= 0.000269  |ddm|= 0.00235\n",
      "  HOMO = -0.639240053858956  LUMO = -0.388806452341181\n",
      "cycle= 10 E= -2721.66784098554  delta_E= -6.06e-08  |g|= 0.000116  |ddm|= 0.00132\n",
      "  HOMO = -0.639239313852133  LUMO = -0.388806452804007\n",
      "cycle= 11 E= -2721.66784099851  delta_E= -1.3e-08  |g|= 4.48e-05  |ddm|= 0.000679\n",
      "  HOMO = -0.639239900323465  LUMO = -0.388806599370556\n",
      "cycle= 12 E= -2721.66784100052  delta_E= -2.01e-09  |g|= 1.95e-05  |ddm|= 0.000335\n",
      "  HOMO = -0.639241197975916  LUMO = -0.388806511680848\n",
      "cycle= 13 E= -2721.66784100089  delta_E= -3.71e-10  |g|= 9.93e-06  |ddm|= 0.000114\n",
      "  HOMO = -0.639241391500447  LUMO = -0.388806480363494\n",
      "Extra cycle  E= -2721.66784100094  delta_E= -5e-11  |g|= 9.15e-06  |ddm|= 4.86e-05\n",
      "converged SCF energy = -2721.66784100094\n",
      " Hartree-Fock Energy: -2721.66784100\n"
     ]
    }
   ],
   "source": [
    "molecule = \"\"\"\n",
    " Cr 0.82627800 -1.30446200 -0.96524300\n",
    " Cr -0.82625500 1.30449100 0.96521400\n",
    " O 0.00001100 0.00001500 -0.00001400\n",
    " N 2.71379100 -0.58517300 -0.32156700\n",
    " H 3.52017600 -0.87998300 -0.88101600\n",
    " H 2.98302700 -0.84252100 0.62848200\n",
    " H 2.75216700 0.43162900 -0.34666000\n",
    " N 0.90611400 -0.01191500 -2.64373800\n",
    " H 0.15767300 0.67336300 -2.59732700\n",
    " H 0.79520000 -0.45289000 -3.56150100\n",
    " H 1.76766300 0.52845600 -2.74461100\n",
    " N 0.74644200 -2.59700900 0.71325300\n",
    " H 0.86887400 -3.59499400 0.51496700\n",
    " H -0.15371900 -2.54555600 1.18538900\n",
    " H 1.44183900 -2.41670700 1.43797600\n",
    " N -1.06123500 -2.02375100 -1.60891800\n",
    " H -1.51982700 -2.67507800 -0.96956400\n",
    " H -1.07760500 -2.52098500 -2.50431600\n",
    " H -1.71705200 -1.25706600 -1.73635500\n",
    " N 1.78821400 -2.82312800 -2.08895700\n",
    " H 2.20721200 -2.51946500 -2.97231100\n",
    " H 1.19687500 -3.61071400 -2.36865500\n",
    " H 2.56853800 -3.28036700 -1.60828700\n",
    " N -2.71376800 0.58520300 0.32153900\n",
    " H -2.72742600 -0.43151600 0.28926300\n",
    " H -3.01495100 0.88961900 -0.60504900\n",
    " H -3.51124000 0.82996900 0.91689300\n",
    " N -0.90609100 0.01194400 2.64371000\n",
    " H -0.86251400 0.45862400 3.56440800\n",
    " H -0.11862500 -0.63055500 2.63771800\n",
    " H -1.73984000 -0.57546100 2.70589400\n",
    " N 1.06125800 2.02378000 1.60888900\n",
    " H 1.08580100 2.47872200 2.52630400\n",
    " H 1.50134100 2.71049000 0.99382500\n",
    " H 1.72819800 1.26071800 1.68834600\n",
    " N -0.74641900 2.59703800 -0.71328200\n",
    " H -0.92607700 3.58837700 -0.52509900\n",
    " H -1.40673500 2.37764300 -1.45939400\n",
    " H 0.17080800 2.59240800 -1.15542700\n",
    " N -1.78819100 2.82315700 2.08892800\n",
    " H -1.19783000 3.61531400 2.35756800\n",
    " H -2.19798000 2.52398300 2.97800300\n",
    " H -2.57540900 3.27269300 1.61233200\n",
    "\"\"\"\n",
    "\n",
    "basis = \"def2-svp\"\n",
    "pymol = pyscf.gto.Mole(\n",
    "        atom    =   molecule,\n",
    "        symmetry=   True,\n",
    "        spin    =   6, # number of unpaired electrons\n",
    "        charge  =   4,\n",
    "        basis   =   basis)\n",
    "\n",
    "\n",
    "pymol.build()\n",
    "print(\"symmetry: \",pymol.topgroup)\n",
    "# mf = pyscf.scf.UHF(pymol).x2c()\n",
    "mf = pyscf.scf.ROHF(pymol)\n",
    "mf.verbose = 4\n",
    "mf.conv_tol = 1e-8\n",
    "mf.conv_tol_grad = 1e-5\n",
    "mf.chkfile = \"scf.fchk\"\n",
    "mf.init_guess = \"sad\"\n",
    "\n",
    "mf.run(max_cycle=200)\n",
    "\n",
    "print(\" Hartree-Fock Energy: %12.8f\" % mf.e_tot)\n",
    "# mf.analyze()\n",
    "\n",
    "# Get data\n",
    "F = mf.get_fock()\n",
    "C = mf.mo_coeff\n",
    "S = mf.get_ovlp()\n",
    "ndocc = mf.nelec[1]\n",
    "nsing = mf.nelec[0] - ndocc\n",
    "nvirt = mf.mol.nao - ndocc - nsing\n",
    "\n",
    "# Just use alpha orbitals\n",
    "Cdocc = mf.mo_coeff[:,0:ndocc]\n",
    "Csing = mf.mo_coeff[:,ndocc:ndocc+nsing]\n",
    "Cvirt = mf.mo_coeff[:,ndocc+nsing:ndocc+nsing+nvirt]\n",
    "\n",
    "nbas = Cdocc.shape[0]"
   ]
  },
  {
   "attachments": {},
   "cell_type": "markdown",
   "id": "926bfd1b",
   "metadata": {},
   "source": [
    "# Define Fragments by AOs"
   ]
  },
  {
   "cell_type": "code",
   "execution_count": 11,
   "id": "45633353-ae0c-47b2-ae89-8d9a66039cd9",
   "metadata": {
    "tags": []
   },
   "outputs": [
    {
     "name": "stdout",
     "output_type": "stream",
     "text": [
      "[[14, 15, 16, 17, 18], [65, 66, 67], [45, 46, 47, 48, 49]]\n"
     ]
    }
   ],
   "source": [
    "# Find AO's corresponding to atoms\n",
    "full = []\n",
    "frag1 = []\n",
    "frag2 = []\n",
    "frag3 = []\n",
    "for ao_idx,ao in enumerate(mf.mol.ao_labels(fmt=False)):\n",
    "    if ao[0] == 0:\n",
    "        if ao[2] in (\"3d\"):\n",
    "            frag1.append(ao_idx)\n",
    "            full.append(ao_idx)\n",
    "    elif ao[0] == 2:\n",
    "        if ao[2] in (\"2p\"):\n",
    "            frag2.append(ao_idx)\n",
    "            full.append(ao_idx)\n",
    "    elif ao[0] == 1:\n",
    "        if ao[2] in (\"3d\"):\n",
    "            frag3.append(ao_idx)\n",
    "            full.append(ao_idx)\n",
    "\n",
    "\n",
    "frags = [frag1, frag2, frag3]\n",
    "print(frags)\n"
   ]
  },
  {
   "attachments": {},
   "cell_type": "markdown",
   "id": "3efb9920",
   "metadata": {},
   "source": [
    "# Define Projectors\n",
    "We can choose to project onto the non-orthogonal AOs, or onto the symmetrically orthogonalized AOs."
   ]
  },
  {
   "cell_type": "code",
   "execution_count": 12,
   "id": "398f646b",
   "metadata": {},
   "outputs": [],
   "source": [
    "# Define projectors\n",
    "X = np.eye(nbas) \n",
    "X = scipy.linalg.sqrtm(S)\n",
    "Pfull = X[:,full]  # non-orthogonal\n",
    "Pf = []\n",
    "for f in frags:\n",
    "    Pf.append(X[:,f])\n"
   ]
  },
  {
   "attachments": {},
   "cell_type": "markdown",
   "id": "841d2ce9",
   "metadata": {},
   "source": [
    "# Project MOs onto all fragments\n",
    "For each orbital block (Docc, Sing, Virt), project each subspace onto the full list of fragment AOs. This will determine our full active space."
   ]
  },
  {
   "cell_type": "code",
   "execution_count": 13,
   "id": "b5553884",
   "metadata": {},
   "outputs": [
    {
     "name": "stdout",
     "output_type": "stream",
     "text": [
      " Partition  366 orbitals into a total of   13 orbitals\n",
      "            Index   Sing. Val. Space       \n",
      "                0   0.94588750            1*\n",
      "                1   0.94578862            1*\n",
      "                2   0.93458123            1*\n",
      "                3   0.93451016            1*\n",
      "                4   0.93188480            1*\n",
      "                5   0.93170146            1*\n",
      "                6   0.91297990            2*\n",
      "                7   0.82699337            0*\n",
      "                8   0.82683538            0*\n",
      "                9   0.81623306            2*\n",
      "               10   0.81596219            2*\n",
      "               11   0.81358197            2*\n",
      "               12   0.80589245            0*\n",
      "               13   0.44661532            0\n",
      "               14   0.44579296            0\n",
      "               15   0.44120801            0\n",
      "               16   0.36363766            0\n",
      "               17   0.28018789            2\n",
      "               18   0.27969540            2\n",
      "               19   0.18788596            2\n",
      "               20   0.12000001            0\n",
      "               21   0.11945220            0\n",
      "               22   0.10551155            0\n",
      "               23   0.10496451            0\n",
      "               24   0.09655085            0\n",
      "               25   0.09607580            0\n",
      "               26   0.03388886            2\n",
      "               27   0.03300490            2\n",
      "               28   0.03067038            2\n",
      "               29   0.03048291            2\n",
      "               30   0.02893223            2\n",
      "               31   0.02890195            2\n"
     ]
    }
   ],
   "source": [
    "(Oact, Sact, Vact), (Cenv, Cerr, _) = svd_subspace_partitioning((Cdocc, Csing, Cvirt), Pfull, S)\n",
    "assert(Cerr.shape[1] == 0)\n",
    "Cact = np.hstack((Oact,Vact))"
   ]
  },
  {
   "attachments": {},
   "cell_type": "markdown",
   "id": "d58103c3",
   "metadata": {},
   "source": [
    "# Split active space into fragments"
   ]
  },
  {
   "cell_type": "code",
   "execution_count": 14,
   "id": "5f16720a",
   "metadata": {},
   "outputs": [
    {
     "name": "stdout",
     "output_type": "stream",
     "text": [
      "\n",
      " Fragment:  [14, 15, 16, 17, 18]\n",
      " Partition   13 orbitals into a total of    5 orbitals\n",
      "            Index   Sing. Val. Space       \n",
      "                0   0.93179398            1*\n",
      "                1   0.91034477            1*\n",
      "                2   0.91027087            1*\n",
      "                3   0.81609029            2*\n",
      "                4   0.76933275            2*\n",
      "                5   0.33858496            0\n",
      "                6   0.20438973            0\n",
      "                7   0.20396856            0\n",
      "                8   0.00016003            1\n",
      "                9   0.00011159            1\n",
      "               10   0.00004615            2\n",
      "               11   0.00001880            2\n",
      "\n",
      " Fragment:  [65, 66, 67]\n",
      " Partition   13 orbitals into a total of    3 orbitals\n",
      "            Index   Sing. Val. Space       \n",
      "                0   0.82196592            0*\n",
      "                1   0.82186664            0*\n",
      "                2   0.78759622            0*\n",
      "                3   0.27950363            2\n",
      "                4   0.15487554            1\n",
      "                5   0.15440634            1\n",
      "                6   0.00082797            2\n",
      "                7   0.00003554            1\n",
      "                8   0.00002442            2\n",
      "\n",
      " Fragment:  [45, 46, 47, 48, 49]\n",
      " Partition   13 orbitals into a total of    5 orbitals\n",
      "            Index   Sing. Val. Space       \n",
      "                0   0.93179541            1*\n",
      "                1   0.91032438            1*\n",
      "                2   0.91027905            1*\n",
      "                3   0.81610378            2*\n",
      "                4   0.76932840            2*\n",
      "                5   0.33860197            0\n",
      "                6   0.20438700            0\n",
      "                7   0.20402805            0\n",
      "                8   0.00017797            1\n",
      "                9   0.00009140            1\n",
      "               10   0.00004330            2\n",
      "               11   0.00002153            2\n",
      " init_fspace:  [(3, 0), (3, 3), (3, 0)]\n",
      " clusters   :  [[1, 2, 3, 4, 5], [6, 7, 8], [9, 10, 11, 12, 13]]\n"
     ]
    }
   ],
   "source": [
    "# Project active orbitals onto fragments\n",
    "init_fspace = []\n",
    "clusters = []\n",
    "Cfrags = []\n",
    "orb_index = 1\n",
    "\n",
    "# import pickle\n",
    "\n",
    "# data = {}\n",
    "# data[\"Pf\"] = Pf \n",
    "# data[\"Cdocc\"] = Cdocc\n",
    "# data[\"Csing\"] = Csing\n",
    "# data[\"Cvirt\"] = Cvirt\n",
    "# data[\"S\"] = S\n",
    "# data[\"frags\"] = frags \n",
    "\n",
    "for fi,f in enumerate(frags):\n",
    "    print()\n",
    "    print(\" Fragment: \", f)\n",
    "    (Of, Sf, Vf), (_, _, _) = svd_subspace_partitioning((Oact, Sact, Vact), Pf[fi], S)\n",
    "    Cfrags.append(np.hstack((Of, Sf, Vf)))\n",
    "    ndocc_f = Of.shape[1]\n",
    "    init_fspace.append((ndocc_f+Sf.shape[1], ndocc_f))\n",
    "    nmof = Of.shape[1] + Sf.shape[1] + Vf.shape[1]\n",
    "    clusters.append(list(range(orb_index, orb_index+nmof)))\n",
    "    orb_index += nmof\n",
    "\n",
    "\n",
    "\n",
    "# Orthogonalize Fragment orbitals\n",
    "Cfrags = sym_ortho(Cfrags, S)\n",
    "\n",
    "Cact = np.hstack(Cfrags)\n",
    "\n",
    "# Write Molden files for visualization\n",
    "pyscf.tools.molden.from_mo(mf.mol, \"Pfull.molden\", Pfull)\n",
    "pyscf.tools.molden.from_mo(mf.mol, \"Cact.molden\", Cact)\n",
    "pyscf.tools.molden.from_mo(mf.mol, \"Cenv.molden\", Cenv)\n",
    "for i in range(len(frags)):\n",
    "    pyscf.tools.molden.from_mo(mf.mol, \"Cfrag%i.molden\"%i, Cfrags[i])\n",
    "\n",
    "print(\" init_fspace: \", init_fspace)\n",
    "print(\" clusters   : \", clusters)\n",
    "\n",
    "\n",
    "# data[\"Cact\"] = Cact\n",
    "# data[\"init_fspace\"] = init_fspace \n",
    "# data[\"clusters\"] = clusters \n",
    "# with open('data_CrOCr.pickle', 'wb') as handle:\n",
    "#     pickle.dump(data, handle)\n"
   ]
  },
  {
   "attachments": {},
   "cell_type": "markdown",
   "id": "91dc633f-ee84-4875-bfed-57c9c3d7d0a6",
   "metadata": {},
   "source": [
    "# Make Integrals"
   ]
  },
  {
   "cell_type": "code",
   "execution_count": 15,
   "id": "eb3ac06f-7e94-420f-9635-6f64f27c7f05",
   "metadata": {},
   "outputs": [
    {
     "name": "stdout",
     "output_type": "stream",
     "text": [
      "(366, 70)\n",
      "(366, 13)\n",
      "(366, 366)\n"
     ]
    }
   ],
   "source": [
    "print(Cenv.shape)\n",
    "print(Cact.shape)\n",
    "d1_embed = 2 * Cenv @ Cenv.T\n",
    "\n",
    "h0 = pyscf.gto.mole.energy_nuc(mf.mol)\n",
    "h  = pyscf.scf.hf.get_hcore(mf.mol)\n",
    "j, k = pyscf.scf.hf.get_jk(mf.mol, d1_embed, hermi=1)\n",
    "\n",
    "print(h.shape)"
   ]
  },
  {
   "cell_type": "code",
   "execution_count": 16,
   "id": "130e7b7f-697e-4448-81f2-458931b4de8d",
   "metadata": {},
   "outputs": [],
   "source": [
    "h0 += np.trace(d1_embed @ ( h + .5*j - .25*k))\n",
    "\n",
    "h = Cact.T @ h @ Cact;\n",
    "j = Cact.T @ j @ Cact;\n",
    "k = Cact.T @ k @ Cact;"
   ]
  },
  {
   "cell_type": "code",
   "execution_count": 17,
   "id": "5047dda7-d4cc-4460-9f5a-0b34b7f16787",
   "metadata": {},
   "outputs": [],
   "source": [
    "nact = h.shape[0]\n",
    "\n",
    "h2 = pyscf.ao2mo.kernel(pymol, Cact, aosym=\"s4\", compact=False)\n",
    "h2.shape = (nact, nact, nact, nact)"
   ]
  },
  {
   "cell_type": "code",
   "execution_count": 18,
   "id": "eb9d44fb-b0ea-48c6-affd-481fc3405daa",
   "metadata": {},
   "outputs": [],
   "source": [
    "# The use of d1_embed only really makes sense if it has zero electrons in the\n",
    "# active space. Let's warn the user if that's not true\n",
    "\n",
    "S = pymol.intor(\"int1e_ovlp_sph\")\n",
    "n_act = np.trace(S @ d1_embed @ S @ Cact @ Cact.T)\n",
    "if abs(n_act) > 1e-8 == False:\n",
    "    print(n_act)\n",
    "    error(\" I found embedded electrons in the active space?!\")\n",
    "\n",
    "h1 = h + j - .5*k;\n"
   ]
  },
  {
   "cell_type": "code",
   "execution_count": 19,
   "id": "48548fca-bae3-46ea-94a6-fa73553eb91d",
   "metadata": {},
   "outputs": [],
   "source": [
    "np.save(\"ints_h0\", h0)\n",
    "np.save(\"ints_h1\", h1)\n",
    "np.save(\"ints_h2\", h2)\n",
    "np.save(\"mo_coeffs\", Cact)\n",
    "np.save(\"overlap_mat\", S)\n",
    "\n",
    "Pa = mf.make_rdm1()[0]\n",
    "Pb = mf.make_rdm1()[1]\n",
    "np.save(\"Pa\", Cact.T @ S @ Pa @ S @ Cact)\n",
    "np.save(\"Pb\", Cact.T @ S @ Pb @ S @ Cact)"
   ]
  },
  {
   "cell_type": "code",
   "execution_count": 20,
   "id": "0fa167fc",
   "metadata": {},
   "outputs": [],
   "source": [
    "import numpy as np\n",
    "Ccmf = np.load(\"Ccmf_13_cr2.npy\")\n",
    "pyscf.tools.molden.from_mo(mf.mol, \"Ccmf_13_cr2.molden\", Ccmf)\n"
   ]
  },
  {
   "cell_type": "code",
   "execution_count": null,
   "id": "c57654bd",
   "metadata": {},
   "outputs": [],
   "source": []
  }
 ],
 "metadata": {
  "kernelspec": {
   "display_name": "Python 3 (ipykernel)",
   "language": "python",
   "name": "python3"
  },
  "language_info": {
   "codemirror_mode": {
    "name": "ipython",
    "version": 3
   },
   "file_extension": ".py",
   "mimetype": "text/x-python",
   "name": "python",
   "nbconvert_exporter": "python",
   "pygments_lexer": "ipython3",
   "version": "3.10.6"
  }
 },
 "nbformat": 4,
 "nbformat_minor": 5
}
