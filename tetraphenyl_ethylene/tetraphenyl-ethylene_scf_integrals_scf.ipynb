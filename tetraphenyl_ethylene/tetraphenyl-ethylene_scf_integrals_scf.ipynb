{
 "cells": [
  {
   "cell_type": "code",
   "execution_count": 1,
   "id": "872297e4-9d52-4b71-981b-9849bfa969ff",
   "metadata": {},
   "outputs": [],
   "source": [
    "import pyscf"
   ]
  },
  {
   "cell_type": "code",
   "execution_count": 2,
   "id": "38a92200-02bd-4e3d-8a8b-39cae17e095c",
   "metadata": {},
   "outputs": [],
   "source": [
    "molecule = \"\"\"\n",
    "C       0.0000798737    -0.6847000736    -0.0002643968\n",
    "C      -0.0000045993     0.6847004005     0.0002321528\n",
    "C      -1.2516911322    -1.4911873637     0.1466932005\n",
    "C      -1.2518749765     1.4910363177    -0.1467039610\n",
    "C      -1.5150778730     2.5769937343     0.7098491398\n",
    "H      -0.8059308844     2.8141471007     1.5059397465\n",
    "C      -2.6699850148     3.3471280722     0.5587999486\n",
    "C       1.2517965953     1.4910321374     0.1477677003\n",
    "C      -2.1705661899     1.2231314604    -1.1785327014\n",
    "C      -3.3193404030     2.0001353635    -1.3374680043\n",
    "H      -1.9754906005     0.3998853275    -1.8675870556\n",
    "C      -3.5780064231     3.0622619875    -0.4659687068\n",
    "H      -2.8596080161     4.1773917213     1.2434429374\n",
    "H      -4.4781551133     3.6690973479    -0.5886415787\n",
    "H      -4.0148678676     1.7755550664    -2.1496525320\n",
    "C       2.1704109553     1.2225558471     1.1795144346\n",
    "C       3.3191093626     1.9995538819     1.3390478222\n",
    "H       1.9753402756     0.3988681616     1.8680462995\n",
    "C       3.5777686992     3.0622493132     0.4682440122\n",
    "H       4.0145794989     1.7745163470     2.1511552290\n",
    "C       2.6698274510     3.3476782111    -0.5564381473\n",
    "H       4.4778557447     3.6690817155     0.5913856675\n",
    "C       1.5150008611     2.5775426423    -0.7080856191\n",
    "H       2.8594474394     4.1783896971    -1.2405391348\n",
    "H       0.8059166949     2.8151487108    -1.5040995927\n",
    "C      -2.1703961368    -1.2233786575     1.1785341370\n",
    "C      -3.3190787816    -2.0005125952     1.3374948800\n",
    "C      -3.5776357724    -3.0626765642     0.4660087159\n",
    "C      -2.6695981507    -3.3474466752    -0.5587727444\n",
    "H      -4.0146190413    -1.7760053156     2.1496885556\n",
    "H      -4.4777125752    -3.6696145874     0.5887005281\n",
    "C      -1.5147815209    -2.5771813908    -0.7098473074\n",
    "H      -1.9754025981    -0.4001011916     1.8675741554\n",
    "H      -0.8056200305    -2.8142567616    -1.5059480749\n",
    "H      -2.8591370644    -4.1777379183    -1.2434055231\n",
    "C       1.5152979685    -2.5773545959     0.7080850887\n",
    "C       1.2519801238    -1.4908805520    -0.1477803173\n",
    "C       2.1705789183    -1.2223084553    -1.1795164524\n",
    "C       3.3193683528    -1.9991768638    -1.3390263340\n",
    "H       1.9754252377    -0.3986520184    -1.8680623142\n",
    "C       3.5781378814    -3.0618350390    -0.4682098260\n",
    "H       4.0148243151    -1.7740665935    -2.1511258023\n",
    "C       2.6702145498    -3.3473596048     0.5564610587\n",
    "H       4.4782963802    -3.6685651120    -0.5913340722\n",
    "H       2.8599195394    -4.1780435886     1.2405719056\n",
    "H       0.8062295737    -2.8150384765     1.5040900373\n",
    "\"\"\""
   ]
  },
  {
   "cell_type": "markdown",
   "id": "a9c68457-68a5-40df-a15b-41d62582c9d2",
   "metadata": {},
   "source": [
    "## SCF\n",
    "First solve for the UHF solution for the 11-et state. This is chosen so that the weakest bonds in all for phenyl groups, and the ethylene unit are broken, creating a natural active space. "
   ]
  },
  {
   "cell_type": "code",
   "execution_count": 3,
   "id": "45633353-ae0c-47b2-ae89-8d9a66039cd9",
   "metadata": {
    "tags": []
   },
   "outputs": [
    {
     "name": "stdout",
     "output_type": "stream",
     "text": [
      "built\n",
      "symmetry:  C1\n",
      "\n",
      "\n",
      "******** <class 'pyscf.df.df_jk.density_fit.<locals>.DFHF'> ********\n",
      "method = DFHF-UHF\n",
      "initial guess = minao\n",
      "damping factor = 0\n",
      "level_shift factor = 0\n",
      "DIIS = <class 'pyscf.scf.diis.CDIIS'>\n",
      "diis_start_cycle = 1\n",
      "diis_space = 8\n",
      "SCF conv_tol = 1e-08\n",
      "SCF conv_tol_grad = 1e-05\n",
      "SCF max_cycles = 20\n",
      "direct_scf = True\n",
      "direct_scf_tol = 1e-13\n",
      "chkfile to save SCF result = cr-def2svp.fchk\n",
      "max_memory 4000 MB (current use 0 MB)\n",
      "number electrons alpha = 89  beta = 87\n",
      "init E= -1004.18605040874\n",
      "  alpha nocc = 89  HOMO = -0.0144033735657714  LUMO = 0.0269702602390633\n",
      "  beta  nocc = 87  HOMO = -0.234346554291644  LUMO = -0.168288513238305\n",
      "\n",
      "WARN: system HOMO -0.0144033735657714 >= system LUMO -0.168288513238305\n",
      "\n",
      "cycle= 1 E= -995.778016017452  delta_E= 8.41  |g|= 0.593  |ddm|= 4.88\n",
      "  alpha nocc = 89  HOMO = -0.146541850219879  LUMO = 0.0818985786905379\n",
      "  beta  nocc = 87  HOMO = -0.313111489252202  LUMO = -0.0962298781710711\n",
      "cycle= 2 E= -996.058902965013  delta_E= -0.281  |g|= 0.189  |ddm|= 1.12\n",
      "  alpha nocc = 89  HOMO = -0.110888402700676  LUMO = 0.127969539382431\n",
      "  beta  nocc = 87  HOMO = -0.276216663219851  LUMO = -0.009294915580154\n",
      "cycle= 3 E= -996.091457544711  delta_E= -0.0326  |g|= 0.142  |ddm|= 0.499\n",
      "  alpha nocc = 89  HOMO = -0.155626920429698  LUMO = 0.116587913122392\n",
      "  beta  nocc = 87  HOMO = -0.295815520613402  LUMO = -0.0288523797256946\n",
      "cycle= 4 E= -996.109044938415  delta_E= -0.0176  |g|= 0.0568  |ddm|= 0.264\n",
      "  alpha nocc = 89  HOMO = -0.172164732582356  LUMO = 0.117491406095185\n",
      "  beta  nocc = 87  HOMO = -0.303559273411945  LUMO = -0.011695571033474\n",
      "cycle= 5 E= -996.119021486315  delta_E= -0.00998  |g|= 0.0465  |ddm|= 0.154\n",
      "  alpha nocc = 89  HOMO = -0.202409512076847  LUMO = 0.124833356721999\n",
      "  beta  nocc = 87  HOMO = -0.311257847477169  LUMO = 0.0268550250936337\n",
      "cycle= 6 E= -996.132768189545  delta_E= -0.0137  |g|= 0.0336  |ddm|= 0.29\n",
      "  alpha nocc = 89  HOMO = -0.210757943769112  LUMO = 0.126839167196199\n",
      "  beta  nocc = 87  HOMO = -0.315363599507906  LUMO = 0.0350430845240809\n",
      "cycle= 7 E= -996.138430301302  delta_E= -0.00566  |g|= 0.0302  |ddm|= 0.142\n",
      "  alpha nocc = 89  HOMO = -0.209865087140212  LUMO = 0.126764423055661\n",
      "  beta  nocc = 87  HOMO = -0.316417742494001  LUMO = 0.0314494207047988\n",
      "cycle= 8 E= -996.141388708584  delta_E= -0.00296  |g|= 0.0297  |ddm|= 0.0656\n",
      "  alpha nocc = 89  HOMO = -0.212875189585006  LUMO = 0.128110521773024\n",
      "  beta  nocc = 87  HOMO = -0.318150305404177  LUMO = 0.0350508391695578\n",
      "cycle= 9 E= -996.144885323147  delta_E= -0.0035  |g|= 0.029  |ddm|= 0.0761\n",
      "  alpha nocc = 89  HOMO = -0.218737421077565  LUMO = 0.133693244804854\n",
      "  beta  nocc = 87  HOMO = -0.325705728615848  LUMO = 0.0412216954011192\n",
      "cycle= 10 E= -996.156895284246  delta_E= -0.012  |g|= 0.0228  |ddm|= 0.289\n",
      "  alpha nocc = 89  HOMO = -0.227266187862629  LUMO = 0.151984877938158\n",
      "  beta  nocc = 87  HOMO = -0.347129323236689  LUMO = 0.0492347968246269\n",
      "cycle= 11 E= -996.162030528623  delta_E= -0.00514  |g|= 0.0184  |ddm|= 0.554\n",
      "  alpha nocc = 89  HOMO = -0.21995295296333  LUMO = 0.134212417727251\n",
      "  beta  nocc = 87  HOMO = -0.326532427950695  LUMO = 0.0421870958608005\n",
      "cycle= 12 E= -996.161642631114  delta_E= 0.000388  |g|= 0.015  |ddm|= 0.396\n",
      "  alpha nocc = 89  HOMO = -0.224902593950751  LUMO = 0.141529509124953\n",
      "  beta  nocc = 87  HOMO = -0.335874466378811  LUMO = 0.0469006329923124\n",
      "cycle= 13 E= -996.164316022564  delta_E= -0.00267  |g|= 0.00221  |ddm|= 0.198\n",
      "  alpha nocc = 89  HOMO = -0.224568536165376  LUMO = 0.141949532861963\n",
      "  beta  nocc = 87  HOMO = -0.336011628878136  LUMO = 0.0471866241251422\n",
      "cycle= 14 E= -996.164338587857  delta_E= -2.26e-05  |g|= 0.00101  |ddm|= 0.011\n",
      "  alpha nocc = 89  HOMO = -0.224947363951195  LUMO = 0.142254443140657\n",
      "  beta  nocc = 87  HOMO = -0.336591015112051  LUMO = 0.0471255800557312\n",
      "cycle= 15 E= -996.164345112262  delta_E= -6.52e-06  |g|= 0.000322  |ddm|= 0.01\n",
      "  alpha nocc = 89  HOMO = -0.224816593897251  LUMO = 0.142318358087488\n",
      "  beta  nocc = 87  HOMO = -0.336624260721152  LUMO = 0.0471759929661767\n",
      "cycle= 16 E= -996.164345186505  delta_E= -7.42e-08  |g|= 0.000171  |ddm|= 0.00156\n",
      "  alpha nocc = 89  HOMO = -0.224779729977465  LUMO = 0.14228391092272\n",
      "  beta  nocc = 87  HOMO = -0.336566904648265  LUMO = 0.047124387198711\n",
      "cycle= 17 E= -996.164345305573  delta_E= -1.19e-07  |g|= 6.04e-05  |ddm|= 0.0009\n",
      "  alpha nocc = 89  HOMO = -0.224770179664406  LUMO = 0.142261257541526\n",
      "  beta  nocc = 87  HOMO = -0.33654493822662  LUMO = 0.0471128032347248\n",
      "cycle= 18 E= -996.164345321372  delta_E= -1.58e-08  |g|= 2.17e-05  |ddm|= 0.000415\n",
      "  alpha nocc = 89  HOMO = -0.224774391794015  LUMO = 0.142267405492783\n",
      "  beta  nocc = 87  HOMO = -0.336550549338944  LUMO = 0.0471175919402684\n",
      "cycle= 19 E= -996.164345320112  delta_E= 1.26e-09  |g|= 1.84e-05  |ddm|= 0.000143\n",
      "  alpha nocc = 89  HOMO = -0.224772701703831  LUMO = 0.142257619130214\n",
      "  beta  nocc = 87  HOMO = -0.336539060358821  LUMO = 0.0471154061883403\n",
      "cycle= 20 E= -996.164345322433  delta_E= -2.32e-09  |g|= 6.43e-06  |ddm|= 0.00025\n",
      "  alpha nocc = 89  HOMO = -0.224773817897579  LUMO = 0.142258636863196\n",
      "  beta  nocc = 87  HOMO = -0.336540459352352  LUMO = 0.0471155181279057\n",
      "Extra cycle  E= -996.164345322521  delta_E= -8.78e-11  |g|= 4.92e-06  |ddm|= 1.35e-05\n",
      "converged SCF energy = -996.164345322521  <S^2> = 4.3813569  2S+1 = 4.3041175\n",
      " Hartree-Fock Energy: -996.16434532\n"
     ]
    }
   ],
   "source": [
    "\n",
    "basis = \"6-31g*\"\n",
    "\n",
    "pymol = pyscf.gto.Mole(atom=molecule,\n",
    "    symmetry = True, spin=2, charge=0,\n",
    "    basis = basis)\n",
    "\n",
    "pymol.build()\n",
    "print(\"built\")\n",
    "print(\"symmetry: \",pymol.topgroup)\n",
    "mf = pyscf.scf.UHF(pymol).density_fit()\n",
    "mf.verbose = 4\n",
    "mf.conv_tol = 1e-8\n",
    "mf.conv_tol_grad = 1e-5\n",
    "mf.chkfile = \"cr-def2svp.fchk\"\n",
    "# mf.init_guess = \"chkfile\"\n",
    "mf.run(max_cycle=20)\n",
    "\n",
    "print(\" Hartree-Fock Energy: %12.8f\" % mf.e_tot)"
   ]
  },
  {
   "cell_type": "code",
   "execution_count": 7,
   "id": "27768049-e934-4363-aaa0-50edb17a96d5",
   "metadata": {
    "collapsed": true,
    "jupyter": {
     "outputs_hidden": true
    },
    "tags": []
   },
   "outputs": [
    {
     "name": "stdout",
     "output_type": "stream",
     "text": [
      "\n",
      "\n",
      "******** <class 'pyscf.df.df_jk.density_fit.<locals>.DFHF'> Newton solver flags ********\n",
      "SCF tol = 1e-08\n",
      "conv_tol_grad = 1e-05\n",
      "max. SCF cycles = 50\n",
      "direct_scf = True\n",
      "direct_scf_tol = 1e-13\n",
      "chkfile to save SCF result = /var/folders/9p/nhnq58pj3td7svw_pppk_syw0000gn/T/tmp_0tu4qm7\n",
      "max_cycle_inner = 12\n",
      "max_stepsize = 0.05\n",
      "ah_start_tol = 1e+09\n",
      "ah_level_shift = 0\n",
      "ah_conv_tol = 1e-12\n",
      "ah_lindep = 1e-14\n",
      "ah_start_cycle = 1\n",
      "ah_max_cycle = 40\n",
      "ah_grad_trust_region = 2.5\n",
      "kf_interval = 4\n",
      "kf_trust_region = 5\n",
      "canonicalization = True\n",
      "max_memory 4000 MB (current use 0 MB)\n",
      "  alpha nocc = 93  HOMO = -0.0763500452444308  LUMO = 0.0337188428283178\n",
      "  beta  nocc = 83  HOMO = -0.158459085252421  LUMO = -0.0761805131704248\n",
      "\n",
      "WARN: system HOMO 0.225172136409184 >= system LUMO -0.0761805131704248\n",
      "\n",
      "Initial guess E= -995.275491298454  |g|= 0.000243679\n",
      "macro= 0  E= -995.275491081872  delta_E= 2.16582e-07  |g|= 0.000243679  1 KF 5 JK\n",
      "macro= 1  E= -995.275491398306  delta_E= -3.16434e-07  |g|= 0.000469923  1 KF 7 JK\n",
      "macro= 2  E= -995.275491366931  delta_E= 3.13744e-08  |g|= 8.82077e-06  4 KF 43 JK\n",
      "macro= 3  E= -995.27549136695  delta_E= -1.81899e-11  |g|= 4.20456e-06  1 KF 3 JK\n",
      "Canonicalize SCF orbitals\n",
      "macro X = 4  E=-995.27549136695  |g|= 4.20456e-06  total 8 KF 63 JK\n",
      "converged SCF energy = -995.27549136695  <S^2> = 30.113347  2S+1 = 11.020589\n"
     ]
    },
    {
     "data": {
      "text/plain": [
       "-995.2754913669496"
      ]
     },
     "execution_count": 7,
     "metadata": {},
     "output_type": "execute_result"
    }
   ],
   "source": [
    "# # now try Newton\n",
    "# dm1 = mf.make_rdm1()\n",
    "# mf = pyscf.scf.UHF(pymol).density_fit().newton()\n",
    "# mf.verbose = 4\n",
    "# mf.conv_tol = 1e-8\n",
    "# mf.conv_tol_grad = 1e-5\n",
    "# mf.kernel(dm0=dm1)"
   ]
  },
  {
   "cell_type": "code",
   "execution_count": 8,
   "id": "aa0adf37-100b-4767-a36e-99b61250f3bc",
   "metadata": {},
   "outputs": [
    {
     "name": "stdout",
     "output_type": "stream",
     "text": [
      "(89, 87)\n",
      "(4.381356853122398, 4.304117495200333)\n",
      " Number of active orbitals:  26\n",
      " Number of doc    orbitals:  75\n"
     ]
    },
    {
     "data": {
      "text/plain": [
       "[<matplotlib.lines.Line2D at 0x11cb22358>]"
      ]
     },
     "execution_count": 8,
     "metadata": {},
     "output_type": "execute_result"
    },
    {
     "data": {
      "image/png": "[encoded data removed]",
      "text/plain": [
       "<Figure size 432x288 with 1 Axes>"
      ]
     },
     "metadata": {
      "needs_background": "light"
     },
     "output_type": "display_data"
    }
   ],
   "source": [
    "import numpy as np\n",
    "import scipy as sp\n",
    "import matplotlib as mpl\n",
    "from matplotlib import pyplot as plt\n",
    "from pyscf import tools\n",
    "from pyscf import lo\n",
    "\n",
    "Ca = mf.mo_coeff[0,:]\n",
    "Cb = mf.mo_coeff[1,:]\n",
    "S = mf.get_ovlp()\n",
    "na1 = mf.nelec[0]\n",
    "nb1 = mf.nelec[1]\n",
    "print(mf.nelec)\n",
    "\n",
    "Ca_doc = Ca[:,0:na1]\n",
    "Cb_doc = Cb[:,0:nb1]\n",
    "Pa = Ca_doc @ Ca_doc.T\n",
    "Pb = Cb_doc @ Cb_doc.T\n",
    "\n",
    "P = Pa + Pb\n",
    "\n",
    "sqrtS = sp.linalg.sqrtm(S)\n",
    "P = sqrtS @ P @ sqrtS\n",
    "P = (P + P.T) * .5\n",
    "# F = sp.linalg.eig(P);\n",
    "P_evals, P_evecs = sp.linalg.eigh(P)\n",
    "\n",
    "print(mf.spin_square((Ca_doc,Cb_doc),S))\n",
    "act_list = []\n",
    "doc_list = []\n",
    "\n",
    "thresh = .01\n",
    "for idx,n in enumerate(P_evals):\n",
    "#     @printf(\" %4i = %12.8f\\n\",idx,n)\n",
    "    if n < 2.0 - thresh:\n",
    "        if n > thresh:\n",
    "            act_list.append(idx)\n",
    "    else:\n",
    "        doc_list.append(idx)\n",
    "        \n",
    "        \n",
    "print(\" Number of active orbitals: \", len(act_list))\n",
    "print(\" Number of doc    orbitals: \", len(doc_list))\n",
    "\n",
    "invsqrtS = sp.linalg.inv(sqrtS)\n",
    "\n",
    "Cact = invsqrtS @ P_evecs[:,act_list]\n",
    "Cdoc = invsqrtS @ P_evecs[:,doc_list]\n",
    "\n",
    "\n",
    "pyscf.tools.molden.from_mo(pymol, \"C_act.molden\", Cact)\n",
    "pyscf.tools.molden.from_mo(pymol, \"C_doc.molden\", Cdoc)\n",
    "\n",
    "plt.plot(sorted(P_evals)[::-1][50:100], marker='o')"
   ]
  },
  {
   "cell_type": "code",
   "execution_count": 9,
   "id": "5b8917ad-61c4-42dd-93c0-00f682f279b7",
   "metadata": {},
   "outputs": [
    {
     "name": "stdout",
     "output_type": "stream",
     "text": [
      "Set conv_tol_grad to 0.000316228\n",
      "macro= 1  f(x)= 2.807040402399  delta_f= 2.80704  |g|= 0.954706  4 KF 20 Hx\n",
      "macro= 2  f(x)= 3.7066949330735  delta_f= 0.899655  |g|= 0.541877  4 KF 21 Hx\n",
      "macro= 3  f(x)= 6.1560988233047  delta_f= 2.4494  |g|= 1.04027  4 KF 20 Hx\n",
      "macro= 4  f(x)= 9.9038129186192  delta_f= 3.74771  |g|= 1.49587  4 KF 20 Hx\n",
      "macro= 5  f(x)= 16.027486070211  delta_f= 6.12367  |g|= 2.10549  4 KF 20 Hx\n",
      "macro= 6  f(x)= 25.233926218755  delta_f= 9.20644  |g|= 1.20725  4 KF 20 Hx\n",
      "macro= 7  f(x)= 25.477359208013  delta_f= 0.243433  |g|= 1.02043  2 KF 3 Hx\n",
      "macro= 8  f(x)= 25.505841227339  delta_f= 0.028482  |g|= 0.334519  1 KF 2 Hx\n",
      "macro= 9  f(x)= 25.505841712255  delta_f= 4.84916e-07  |g|= 0.00138163  1 KF 2 Hx\n",
      "macro= 10  f(x)= 25.505841712255  delta_f= 7.10543e-15  |g|= 2.1662e-06  1 KF 1 Hx\n",
      "macro X = 10  f(x)= 25.505841712255  |g|= 2.1662e-06  20 intor 29 KF 129 Hx\n"
     ]
    }
   ],
   "source": [
    "Cact_loc = pyscf.lo.PM(pymol).kernel(Cact, verbose=4);"
   ]
  },
  {
   "cell_type": "code",
   "execution_count": 10,
   "id": "c6d4d224-0494-42ea-ba6e-65a5d4f3d5b5",
   "metadata": {},
   "outputs": [],
   "source": [
    "pyscf.tools.molden.from_mo(pymol, \"C_act_loc.molden\", Cact_loc)\n",
    "# pyscf.tools.molden.from_mo(pymol, \"P_act_loc.molden\", Pa+Pb)"
   ]
  },
  {
   "cell_type": "markdown",
   "id": "0fbfea7b-60b4-4f3d-9b0d-3fb26cafb8de",
   "metadata": {},
   "source": [
    "# Now build JK"
   ]
  },
  {
   "cell_type": "code",
   "execution_count": 13,
   "id": "5d272798-ffa3-4080-b5af-ceb253ea0e66",
   "metadata": {},
   "outputs": [],
   "source": [
    "h0 = pyscf.gto.mole.energy_nuc(pymol)\n",
    "h  = pyscf.scf.hf.get_hcore(pymol)\n",
    "j, k = pyscf.scf.hf.get_jk(pymol, Pa+Pb, hermi=1)"
   ]
  },
  {
   "cell_type": "markdown",
   "id": "5149db30-d130-4e95-adce-dc32638c27a6",
   "metadata": {},
   "source": [
    "# Graph Clustering"
   ]
  },
  {
   "cell_type": "code",
   "execution_count": 15,
   "id": "eb088df6-ba82-49b3-9590-c49efc67356e",
   "metadata": {},
   "outputs": [
    {
     "data": {
      "image/png": "[encoded data removed]",
      "text/plain": [
       "<Figure size 432x288 with 1 Axes>"
      ]
     },
     "metadata": {
      "needs_background": "light"
     },
     "output_type": "display_data"
    }
   ],
   "source": [
    "import copy as cp\n",
    "\n",
    "nvecs = 5\n",
    "\n",
    "operator = h + j - .5*k\n",
    "\n",
    "C = cp.deepcopy(Cact_loc)\n",
    "k1 = C.T @ operator @ C\n",
    "A = abs(k1)\n",
    "L = -1*A\n",
    "for i in range(A.shape[0]):\n",
    "    L[i,i] += np.sum(A[i,:])\n",
    "    \n",
    "L_evals, L_evecs = sp.linalg.eigh(L)\n",
    "# print(L_evals)\n",
    "plt.plot(L_evals,);\n",
    "plt.xlabel(\"eigen value index\");\n",
    "plt.ylabel(\"Laplacian eigen value\");\n",
    "\n",
    "# L = Diagonal([sum(A[i,:]) for i in 1:size(A,1)]) - A;\n",
    "# F = eigen(L);\n"
   ]
  },
  {
   "cell_type": "code",
   "execution_count": 16,
   "id": "83da8a22-f5a0-4eb1-9eb7-1e071b6dc4d1",
   "metadata": {},
   "outputs": [
    {
     "data": {
      "image/png": "[encoded data removed]",
      "text/plain": [
       "<Figure size 288x288 with 1 Axes>"
      ]
     },
     "metadata": {
      "needs_background": "light"
     },
     "output_type": "display_data"
    }
   ],
   "source": [
    "# projection onto the lowest `nvecs` fiedler vectors\n",
    "\n",
    "L_evecs_ss = L_evecs[:,0:nvecs]\n",
    "graph = L_evecs_ss @ L_evecs_ss.T\n",
    "plt.matshow(graph);"
   ]
  },
  {
   "cell_type": "code",
   "execution_count": 33,
   "id": "c923c83e-4a2e-47ef-b902-11e375808f9a",
   "metadata": {},
   "outputs": [
    {
     "name": "stdout",
     "output_type": "stream",
     "text": [
      "[2 4 2 0 2 2 3 3 0 1 0 1 2 0 3 0 4 1 4 3 2 3 4 1 4 1]\n",
      "[3 2 1 0 4 2 3 3 0 1 0 1 4 0 3 0 2 1 2 3 0 3 2 1 2 1]\n"
     ]
    },
    {
     "data": {
      "image/png": "[encoded data removed]",
      "text/plain": [
       "<Figure size 288x288 with 1 Axes>"
      ]
     },
     "metadata": {
      "needs_background": "light"
     },
     "output_type": "display_data"
    },
    {
     "data": {
      "image/png": "[encoded data removed]",
      "text/plain": [
       "<Figure size 288x288 with 1 Axes>"
      ]
     },
     "metadata": {
      "needs_background": "light"
     },
     "output_type": "display_data"
    }
   ],
   "source": [
    "from sklearn.cluster import KMeans\n",
    "from sklearn.cluster import AgglomerativeClustering\n",
    "\n",
    "kmeans = KMeans(n_clusters=5, random_state=4).fit(graph)\n",
    "# kmeans.labels_array([1, 1, 1, 0, 0, 0], dtype=int32)\n",
    "print(kmeans.labels_)\n",
    "sorted_list = np.argsort(kmeans.labels_)\n",
    "plt.matshow(graph[sorted_list, :][:, sorted_list]);\n",
    "\n",
    "clustering = AgglomerativeClustering(n_clusters=5, ).fit(graph)\n",
    "print(clustering.labels_)\n",
    "sorted_list = np.argsort(clustering.labels_)\n",
    "plt.matshow(graph[sorted_list, :][:, sorted_list]);\n"
   ]
  },
  {
   "cell_type": "code",
   "execution_count": 34,
   "id": "e2de3e90-9ce1-4092-a485-2ada901d9962",
   "metadata": {},
   "outputs": [],
   "source": [
    "C_sorted = Cact_loc[:,sorted_list]\n",
    "pyscf.tools.molden.from_mo(pymol, \"C_act_loc_sorted.molden\", C_sorted)"
   ]
  },
  {
   "cell_type": "code",
   "execution_count": 37,
   "id": "73bdc39f-2174-4507-8dda-4f46892323e6",
   "metadata": {},
   "outputs": [
    {
     "name": "stdout",
     "output_type": "stream",
     "text": [
      "[[0, 1, 2, 3, 4, 5], [6, 7, 8, 9, 10, 11], [12, 13, 14, 15, 16, 17], [18, 19, 20, 21, 22, 23], [24, 25]]\n",
      "[(3, 3), (3, 3), (3, 3), (3, 3), (1, 1)]\n"
     ]
    }
   ],
   "source": [
    "# Now let's define the clusters\n",
    "\n",
    "clusters = [\n",
    "            [*range(0,6)],\n",
    "            [*range(6,12)],\n",
    "            [*range(12,18)],\n",
    "            [*range(18,24)],\n",
    "            [*range(24,26)]\n",
    "           ]\n",
    "init_fspace = [\n",
    "    (3,3),\n",
    "    (3,3),\n",
    "    (3,3),\n",
    "    (3,3),\n",
    "    (1,1)\n",
    "];\n",
    "print(clusters)\n",
    "print(init_fspace)"
   ]
  },
  {
   "cell_type": "markdown",
   "id": "91dc633f-ee84-4875-bfed-57c9c3d7d0a6",
   "metadata": {},
   "source": [
    "# Make Integrals"
   ]
  },
  {
   "cell_type": "code",
   "execution_count": 38,
   "id": "eb3ac06f-7e94-420f-9635-6f64f27c7f05",
   "metadata": {},
   "outputs": [],
   "source": [
    "d1_embed = 2 * Cdoc @ Cdoc.T\n",
    "\n",
    "h0 = pyscf.gto.mole.energy_nuc(pymol)\n",
    "h  = pyscf.scf.hf.get_hcore(pymol)\n",
    "j, k = pyscf.scf.hf.get_jk(pymol, d1_embed, hermi=1)"
   ]
  },
  {
   "cell_type": "code",
   "execution_count": 39,
   "id": "130e7b7f-697e-4448-81f2-458931b4de8d",
   "metadata": {},
   "outputs": [],
   "source": [
    "h0 += np.trace(d1_embed @ ( h + .5*j - .25*k))\n",
    "\n",
    "h = C_sorted.T @ h @ C_sorted\n",
    "j = C_sorted.T @ j @ C_sorted;\n",
    "k = C_sorted.T @ k @ C_sorted;"
   ]
  },
  {
   "cell_type": "code",
   "execution_count": 41,
   "id": "5047dda7-d4cc-4460-9f5a-0b34b7f16787",
   "metadata": {},
   "outputs": [],
   "source": [
    "nact = h.shape[0]\n",
    "\n",
    "h2 = pyscf.ao2mo.kernel(pymol, C_sorted, aosym=\"s4\", compact=False)\n",
    "h2.shape = (nact, nact, nact, nact)"
   ]
  },
  {
   "cell_type": "code",
   "execution_count": 42,
   "id": "eb9d44fb-b0ea-48c6-affd-481fc3405daa",
   "metadata": {},
   "outputs": [],
   "source": [
    "# The use of d1_embed only really makes sense if it has zero electrons in the\n",
    "# active space. Let's warn the user if that's not true\n",
    "\n",
    "S = pymol.intor(\"int1e_ovlp_sph\")\n",
    "n_act = np.trace(S @ d1_embed @ S @ C_sorted @ C_sorted.T)\n",
    "if abs(n_act) > 1e-8 == False:\n",
    "    print(n_act)\n",
    "    error(\" I found embedded electrons in the active space?!\")\n",
    "\n",
    "h1 = h + j - .5*k;\n"
   ]
  },
  {
   "cell_type": "code",
   "execution_count": 43,
   "id": "48548fca-bae3-46ea-94a6-fa73553eb91d",
   "metadata": {},
   "outputs": [],
   "source": [
    "np.save(\"tetraphenyl-ethylene_scf_integrals_h0.npz\", h0)\n",
    "np.save(\"tetraphenyl-ethylene_scf_integrals_h1.npz\", h1)\n",
    "np.save(\"tetraphenyl-ethylene_scf_integrals_h2.npz\", h2)"
   ]
  },
  {
   "cell_type": "code",
   "execution_count": null,
   "id": "84024c78-6d38-4456-8a1a-b0f84c26a2a7",
   "metadata": {},
   "outputs": [],
   "source": []
  }
 ],
 "metadata": {
  "kernelspec": {
   "display_name": "Python 3",
   "language": "python",
   "name": "python3"
  },
  "language_info": {
   "codemirror_mode": {
    "name": "ipython",
    "version": 3
   },
   "file_extension": ".py",
   "mimetype": "text/x-python",
   "name": "python",
   "nbconvert_exporter": "python",
   "pygments_lexer": "ipython3",
   "version": "3.7.4"
  }
 },
 "nbformat": 4,
 "nbformat_minor": 5
}
