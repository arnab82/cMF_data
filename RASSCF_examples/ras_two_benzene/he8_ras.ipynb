{
 "cells": [
  {
   "cell_type": "code",
   "execution_count": 1,
   "metadata": {},
   "outputs": [],
   "source": [
    "import pyscf\n",
    "import pyscf.tools\n",
    "\n",
    "from orbitalpartitioning import *"
   ]
  },
  {
   "cell_type": "code",
   "execution_count": 2,
   "metadata": {},
   "outputs": [
    {
     "name": "stdout",
     "output_type": "stream",
     "text": [
      "symmetry:  C2h\n",
      "\n",
      "\n",
      "******** <class 'pyscf.scf.hf_symm.SymAdaptedROHF'> ********\n",
      "method = SymAdaptedROHF-ROHF-RHF\n",
      "initial guess = sad\n",
      "damping factor = 0\n",
      "level_shift factor = 0\n",
      "DIIS = <class 'pyscf.scf.diis.CDIIS'>\n",
      "diis_start_cycle = 1\n",
      "diis_space = 8\n",
      "SCF conv_tol = 1e-08\n",
      "SCF conv_tol_grad = 1e-05\n",
      "SCF max_cycles = 200\n",
      "direct_scf = True\n",
      "direct_scf_tol = 1e-13\n",
      "chkfile to save SCF result = scf.fchk\n",
      "max_memory 4000 MB (current use 0 MB)\n",
      "num. doubly occ = 8  num. singly occ = 0\n",
      "init E= -23.1076217221877\n",
      "HOMO (Bu) = -0.688618622209975  LUMO (Ag) = 1.28511974158208\n",
      "cycle= 1 E= -22.6861987184972  delta_E= 0.421  |g|= 0.0323  |ddm|= 0.572\n",
      "HOMO (Bu) = -0.777084850059619  LUMO (Ag) = 1.28018555035836\n",
      "cycle= 2 E= -22.6864405980352  delta_E= -0.000242  |g|= 0.00402  |ddm|= 0.0148\n",
      "HOMO (Bu) = -0.776241389340644  LUMO (Ag) = 1.2808600917534\n",
      "cycle= 3 E= -22.686444423719  delta_E= -3.83e-06  |g|= 5.71e-05  |ddm|= 0.00224\n",
      "HOMO (Bu) = -0.776271438604529  LUMO (Ag) = 1.2808282002111\n",
      "cycle= 4 E= -22.6864444244694  delta_E= -7.5e-10  |g|= 4.02e-07  |ddm|= 5.04e-05\n",
      "HOMO (Bu) = -0.776271389122916  LUMO (Ag) = 1.28082839096521\n",
      "Extra cycle  E= -22.6864444244694  delta_E= -2.84e-14  |g|= 4.02e-08  |ddm|= 2.4e-07\n",
      "converged SCF energy = -22.6864444244694\n",
      " Hartree-Fock Energy: -22.68644442\n"
     ]
    }
   ],
   "source": [
    "molecule = \"\"\"\n",
    "He 0.00 0.00 0.00\n",
    "He 1.5 0.00 0.00\n",
    "He 1.5 1.5 0.00\n",
    "He 0.00 1.5 0.00\n",
    "He 0.70 0.70 2.20\n",
    "He 2.20 0.70 2.20\n",
    "He 2.20 2.20 2.20\n",
    "He 0.70 2.20 2.20\n",
    "\"\"\"\n",
    "\n",
    "basis = \"6-31g\"\n",
    "pymol = pyscf.gto.Mole(\n",
    "        atom    =   molecule,\n",
    "        symmetry=   True,\n",
    "        spin    =   0, # number of unpaired electrons\n",
    "        charge  =   0,\n",
    "        basis   =   basis)\n",
    "\n",
    "\n",
    "pymol.build()\n",
    "print(\"symmetry: \",pymol.topgroup)\n",
    "# mf = pyscf.scf.UHF(pymol).x2c()\n",
    "mf = pyscf.scf.ROHF(pymol)\n",
    "mf.verbose = 4\n",
    "mf.conv_tol = 1e-8\n",
    "mf.conv_tol_grad = 1e-5\n",
    "mf.chkfile = \"scf.fchk\"\n",
    "mf.init_guess = \"sad\"\n",
    "\n",
    "mf.run(max_cycle=200)\n",
    "\n",
    "print(\" Hartree-Fock Energy: %12.8f\" % mf.e_tot)\n",
    "# mf.analyze()\n",
    "\n",
    "# Get data\n",
    "F = mf.get_fock()\n",
    "C = mf.mo_coeff\n",
    "S = mf.get_ovlp()\n",
    "ndocc = mf.nelec[1]\n",
    "nsing = mf.nelec[0] - ndocc\n",
    "nvirt = mf.mol.nao - ndocc - nsing\n",
    "\n",
    "# Just use alpha orbitals\n",
    "Cdocc = mf.mo_coeff[:,0:ndocc]\n",
    "Csing = mf.mo_coeff[:,ndocc:ndocc+nsing]\n",
    "Cvirt = mf.mo_coeff[:,ndocc+nsing:ndocc+nsing+nvirt]\n",
    "\n",
    "nbas = Cdocc.shape[0]"
   ]
  },
  {
   "cell_type": "code",
   "execution_count": 3,
   "metadata": {},
   "outputs": [
    {
     "name": "stdout",
     "output_type": "stream",
     "text": [
      "[[0, 1, 2, 3, 4, 5, 6, 7], [8, 9, 10, 11, 12, 13, 14, 15]]\n"
     ]
    }
   ],
   "source": [
    "# Find AO's corresponding to atoms\n",
    "full = []\n",
    "frag1 = []\n",
    "frag2 = []\n",
    "frag3 = []\n",
    "for ao_idx,ao in enumerate(mf.mol.ao_labels(fmt=False)):\n",
    "    if ao[0] == 0:\n",
    "        frag1.append(ao_idx)\n",
    "        full.append(ao_idx)\n",
    "    elif ao[0] == 1:\n",
    "        frag1.append(ao_idx)\n",
    "        full.append(ao_idx)\n",
    "    elif ao[0] == 2:\n",
    "        frag1.append(ao_idx)\n",
    "        full.append(ao_idx)\n",
    "    elif ao[0] == 3:\n",
    "        frag1.append(ao_idx)\n",
    "        full.append(ao_idx)\n",
    "    elif ao[0] == 4:\n",
    "        frag2.append(ao_idx)\n",
    "        full.append(ao_idx)\n",
    "    elif ao[0] == 5:\n",
    "        frag2.append(ao_idx)\n",
    "        full.append(ao_idx)\n",
    "    elif ao[0] == 6:\n",
    "        frag2.append(ao_idx)\n",
    "        full.append(ao_idx)\n",
    "    elif ao[0] == 7:\n",
    "        frag2.append(ao_idx)\n",
    "        full.append(ao_idx)\n",
    "            \n",
    "\n",
    "frags = [frag1, frag2]\n",
    "print(frags)"
   ]
  },
  {
   "cell_type": "code",
   "execution_count": 4,
   "metadata": {},
   "outputs": [],
   "source": [
    "# Define projectors\n",
    "X = np.eye(nbas) \n",
    "X = scipy.linalg.sqrtm(S)\n",
    "Pfull = X[:,full]  # non-orthogonal\n",
    "Pf = []\n",
    "for f in frags:\n",
    "    Pf.append(X[:,f])"
   ]
  },
  {
   "cell_type": "code",
   "execution_count": 5,
   "metadata": {},
   "outputs": [
    {
     "name": "stdout",
     "output_type": "stream",
     "text": [
      " Partition   16 orbitals into a total of   16 orbitals\n",
      "            Index   Sing. Val. Space       \n",
      "                0   2.23216799            2*\n",
      "                1   2.15957480            2*\n",
      "                2   1.78865553            2*\n",
      "                3   1.77100106            2*\n",
      "                4   1.71371725            2*\n",
      "                5   1.69279266            2*\n",
      "                6   1.50355282            2*\n",
      "                7   1.42400527            2*\n",
      "                8   0.91010547            0*\n",
      "                9   0.90574412            0*\n",
      "               10   0.80195521            0*\n",
      "               11   0.79999855            0*\n",
      "               12   0.79310281            0*\n",
      "               13   0.79086942            0*\n",
      "               14   0.70335622            0*\n",
      "               15   0.68704195            0*\n"
     ]
    }
   ],
   "source": [
    "(Oact, Sact, Vact), (Cenv, Cerr, _) = svd_subspace_partitioning((Cdocc, Csing, Cvirt), Pfull, S)\n",
    "assert(Cerr.shape[1] == 0)\n",
    "Cact = np.hstack((Oact,Vact))"
   ]
  },
  {
   "cell_type": "code",
   "execution_count": 13,
   "metadata": {},
   "outputs": [
    {
     "name": "stdout",
     "output_type": "stream",
     "text": [
      "\n",
      " Fragment:  [0, 1, 2, 3, 4, 5, 6, 7]\n",
      " Partition   16 orbitals into a total of    8 orbitals\n",
      "            Index   Sing. Val. Space       \n",
      "                0   2.18292600            2*\n",
      "                1   1.72741823            2*\n",
      "                2   1.72306748            2*\n",
      "                3   1.44288923            2*\n",
      "                4   0.90801055            0*\n",
      "                5   0.79624443            0*\n",
      "                6   0.79619099            0*\n",
      "                7   0.69634295            0*\n",
      "                8   0.19890315            0\n",
      "                9   0.12575189            0\n",
      "               10   0.12400658            0\n",
      "               11   0.07795862            0\n",
      "               12   0.00444743            2\n",
      "               13   0.00239249            2\n",
      "               14   0.00229409            2\n",
      "               15   0.00102944            2\n",
      "\n",
      " Fragment:  [8, 9, 10, 11, 12, 13, 14, 15]\n",
      " Partition   16 orbitals into a total of    8 orbitals\n",
      "            Index   Sing. Val. Space       \n",
      "                0   2.18292600            2*\n",
      "                1   1.72741823            2*\n",
      "                2   1.72306748            2*\n",
      "                3   1.44288923            2*\n",
      "                4   0.90801055            0*\n",
      "                5   0.79624443            0*\n",
      "                6   0.79619099            0*\n",
      "                7   0.69634295            0*\n",
      "                8   0.19890315            0\n",
      "                9   0.12575189            0\n",
      "               10   0.12400658            0\n",
      "               11   0.07795862            0\n",
      "               12   0.00444743            2\n",
      "               13   0.00239249            2\n",
      "               14   0.00229409            2\n",
      "               15   0.00102944            2\n",
      "\n",
      "WARN: orbitals [ 0  1  2  3  4  5  6  7  8  9 10 11 12 13 14 15] not symmetrized, norm = [0.5000478  0.50455318 0.25674458 0.33817924 0.50184822 0.54363398\n",
      " 0.25674458 0.33817924 0.50184822 0.54363398 0.25674458 0.33817924\n",
      " 0.5000478  0.50455318 0.25674458 0.33817924]\n",
      "\n",
      "\n",
      "WARN: orbitals [ 0  1  2  3  4  5  6  7  8  9 10 11 12 13 14 15] not symmetrized, norm = [0.5 0.5 0.5 0.5 0.5 0.5 0.5 0.5 0.5 0.5 0.5 0.5 0.5 0.5 0.5 0.5]\n",
      "\n",
      "\n",
      "WARN: orbitals [0 1 2 3 4 5 6 7] not symmetrized, norm = [0.5 0.5 0.5 0.5 0.5 0.5 0.5 0.5]\n",
      "\n",
      "\n",
      "WARN: orbitals [0 1 2 3 4 5 6 7] not symmetrized, norm = [0.5 0.5 0.5 0.5 0.5 0.5 0.5 0.5]\n",
      "\n",
      " init_fspace:  [(4, 4), (4, 4)]\n",
      " clusters   :  [[1, 2, 3, 4, 5, 6, 7, 8], [9, 10, 11, 12, 13, 14, 15, 16]]\n"
     ]
    }
   ],
   "source": [
    "# Project active orbitals onto fragments\n",
    "init_fspace = []\n",
    "clusters = []\n",
    "Cfrags = []\n",
    "orb_index = 1\n",
    "\n",
    "\n",
    "\n",
    "for fi,f in enumerate(frags):\n",
    "    print()\n",
    "    print(\" Fragment: \", f)\n",
    "    (Of, Sf, Vf), (_, _, _) = svd_subspace_partitioning((Oact, Sact, Vact), Pf[fi], S)\n",
    "    Cfrags.append(np.hstack((Of, Sf, Vf)))\n",
    "    ndocc_f = Of.shape[1]\n",
    "    init_fspace.append((ndocc_f+Sf.shape[1], ndocc_f))\n",
    "    nmof = Of.shape[1] + Sf.shape[1] + Vf.shape[1]\n",
    "    clusters.append(list(range(orb_index, orb_index+nmof)))\n",
    "    orb_index += nmof\n",
    "\n",
    "\n",
    "\n",
    "# Orthogonalize Fragment orbitals\n",
    "Cfrags = sym_ortho(Cfrags, S)\n",
    "\n",
    "Cact = np.hstack(Cfrags)\n",
    "\n",
    "# Write Molden files for visualization\n",
    "pyscf.tools.molden.from_mo(mf.mol, \"Pfull.molden\", Pfull)\n",
    "pyscf.tools.molden.from_mo(mf.mol, \"Cact.molden\", Cact)\n",
    "pyscf.tools.molden.from_mo(mf.mol, \"Cenv.molden\", Cenv)\n",
    "for i in range(len(frags)):\n",
    "    pyscf.tools.molden.from_mo(mf.mol, \"Cfrag%i.molden\"%i, Cfrags[i])\n",
    "print(\" init_fspace: \", init_fspace)\n",
    "print(\" clusters   : \", clusters)"
   ]
  },
  {
   "cell_type": "code",
   "execution_count": 14,
   "metadata": {},
   "outputs": [
    {
     "name": "stdout",
     "output_type": "stream",
     "text": [
      "(16, 0)\n",
      "(16, 16)\n",
      "(16, 16)\n"
     ]
    }
   ],
   "source": [
    "print(Cenv.shape)\n",
    "print(Cact.shape)\n",
    "d1_embed = 2 * Cenv @ Cenv.T\n",
    "\n",
    "h0 = pyscf.gto.mole.energy_nuc(mf.mol)\n",
    "h  = pyscf.scf.hf.get_hcore(mf.mol)\n",
    "j, k = pyscf.scf.hf.get_jk(mf.mol, d1_embed, hermi=1)\n",
    "\n",
    "print(h.shape)"
   ]
  },
  {
   "cell_type": "code",
   "execution_count": 15,
   "metadata": {},
   "outputs": [],
   "source": [
    "h0 += np.trace(d1_embed @ ( h + .5*j - .25*k))\n",
    "\n",
    "h = Cact.T @ h @ Cact;\n",
    "j = Cact.T @ j @ Cact;\n",
    "k = Cact.T @ k @ Cact;"
   ]
  },
  {
   "cell_type": "code",
   "execution_count": 16,
   "metadata": {},
   "outputs": [],
   "source": [
    "nact = h.shape[0]\n",
    "\n",
    "h2 = pyscf.ao2mo.kernel(pymol, Cact, aosym=\"s4\", compact=False)\n",
    "h2.shape = (nact, nact, nact, nact)"
   ]
  },
  {
   "cell_type": "code",
   "execution_count": 17,
   "metadata": {},
   "outputs": [],
   "source": [
    "# The use of d1_embed only really makes sense if it has zero electrons in the\n",
    "# active space. Let's warn the user if that's not true\n",
    "\n",
    "S = pymol.intor(\"int1e_ovlp_sph\")\n",
    "n_act = np.trace(S @ d1_embed @ S @ Cact @ Cact.T)\n",
    "if abs(n_act) > 1e-8 == False:\n",
    "    print(n_act)\n",
    "    error(\" I found embedded electrons in the active space?!\")\n",
    "\n",
    "h1 = h + j - .5*k;"
   ]
  },
  {
   "cell_type": "code",
   "execution_count": 18,
   "metadata": {},
   "outputs": [],
   "source": [
    "np.save(\"ints_h0\", h0)\n",
    "np.save(\"ints_h1\", h1)\n",
    "np.save(\"ints_h2\", h2)\n",
    "np.save(\"mo_coeffs\", Cact)\n",
    "np.save(\"overlap_mat\", S)"
   ]
  },
  {
   "cell_type": "code",
   "execution_count": null,
   "metadata": {},
   "outputs": [],
   "source": []
  }
 ],
 "metadata": {
  "kernelspec": {
   "display_name": ".venv",
   "language": "python",
   "name": "python3"
  },
  "language_info": {
   "codemirror_mode": {
    "name": "ipython",
    "version": 3
   },
   "file_extension": ".py",
   "mimetype": "text/x-python",
   "name": "python",
   "nbconvert_exporter": "python",
   "pygments_lexer": "ipython3",
   "version": "3.10.12"
  },
  "orig_nbformat": 4
 },
 "nbformat": 4,
 "nbformat_minor": 2
}
