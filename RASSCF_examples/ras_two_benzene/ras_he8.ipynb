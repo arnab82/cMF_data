{
 "cells": [
  {
   "cell_type": "code",
   "execution_count": 13,
   "metadata": {},
   "outputs": [],
   "source": [
    "\n",
    "using ClusterMeanField\n",
    "using PyCall\n",
    "using LinearAlgebra\n",
    "using Printf\n",
    "using InCoreIntegrals\n",
    "using QCBase\n",
    "using ActiveSpaceSolvers\n",
    "using RDM"
   ]
  },
  {
   "cell_type": "code",
   "execution_count": 21,
   "metadata": {},
   "outputs": [
    {
     "name": "stdout",
     "output_type": "stream",
     "text": [
      "converged SCF energy = -22.6864444244694\n",
      "size of Lowdin ortho AO's:(16, 16)\n"
     ]
    }
   ],
   "source": [
    "molecule = \"\n",
    "He 0.00 0.00 0.00\n",
    "He 1.5 0.00 0.00\n",
    "He 1.5 1.5 0.00\n",
    "He 0.00 1.5 0.00\n",
    "He 0.70 0.70 2.20\n",
    "He 2.20 0.70 2.20\n",
    "He 2.20 2.20 2.20\n",
    "He 0.70 2.20 2.20\n",
    "\"\n",
    "atoms = []\n",
    "for (li,line) in enumerate(split(rstrip(lstrip(molecule)), \"\\n\"))\n",
    "    l = split(line)\n",
    "    push!(atoms, Atom(li, l[1], parse.(Float64,l[2:4])))\n",
    "end\n",
    "\n",
    "#basis = \"aug-cc-pvdz\" #9 orbs on each He\n",
    "# basis = \"cc-pvdz\" #5 orbs on each He\n",
    "#basis = \"cc-pvtz\" # 6 orbs on each He\n",
    "#basis = \"sto-3g\"\n",
    "basis=\"6-31g\"\n",
    "# Create FermiCG.Molecule type\n",
    "mol = Molecule(0,1,atoms,basis)\n",
    "\n",
    "pyscf = pyimport(\"pyscf\")\n",
    "pymol = pyscf.gto.Mole(atom=molecule, spin=0, charge=0, basis=basis)\n",
    "pymol.build()\n",
    "mf = pyscf.scf.RHF(pymol).run()\n",
    "s = mf.get_ovlp(pymol)\n",
    "ClusterMeanField.pyscf_write_molden(mol, s, filename=\"ao_631g.molden\")\n",
    "lo = pyimport(\"pyscf.lo.orth\")\n",
    "lo_ao = lo.lowdin(s)\n",
    "# println(\"size of Lowdin ortho AO's:\", size(lo_ao))\n",
    "\n",
    "# ClusterMeanField.pyscf_write_molden(mol, lo_ao, filename=\"lowdin_ao_631g.molden\")\n",
    "\n",
    "#write fci dump file from the modified mo coefficients\n",
    "tools = pyimport(\"pyscf.tools\")\n",
    "tools.fcidump.from_mo(pymol, \"fcidump.he08_ras\", s)"
   ]
  },
  {
   "cell_type": "code",
   "execution_count": 19,
   "metadata": {},
   "outputs": [],
   "source": [
    "#Can just read in pyscf dump file for integrals (once you have already run an scf calculation)\n",
    "pyscf = pyimport(\"pyscf\");\n",
    "fcidump = pyimport(\"pyscf.tools.fcidump\");\n",
    "ctx = fcidump.read(\"/Users/ayush/workspace/cmf/project_hessian_debug/ClusterMeanField.jl/examples/ras_two_benzene/fcidump.he08_ras\");\n",
    "h = ctx[\"H1\"];\n",
    "g = ctx[\"H2\"];\n",
    "ecore = ctx[\"ECORE\"];\n",
    "g = pyscf.ao2mo.restore(\"1\", g, size(h,2))\n",
    "\n",
    "ints = InCoreInts(ecore,h,g);"
   ]
  },
  {
   "cell_type": "code",
   "execution_count": 11,
   "metadata": {},
   "outputs": [
    {
     "data": {
      "text/plain": [
       "8"
      ]
     },
     "metadata": {},
     "output_type": "display_data"
    }
   ],
   "source": [
    "#Define clusters and intial Fock space for inital CMF calc for 2 orbs each He\n",
    "clusters_in = [(1:8),(9:16)]\n",
    "init_fspace = [(4,4),(4,4)]\n",
    "rdm1 = zeros(size(ints.h1))\n",
    "na=8\n",
    "nb=8"
   ]
  },
  {
   "cell_type": "code",
   "execution_count": 6,
   "metadata": {},
   "outputs": [
    {
     "name": "stdout",
     "output_type": "stream",
     "text": [
      "IDX001:DIM65536:001|002|003|004|005|006|007|008|\n",
      "IDX002:DIM65536:009|010|011|012|013|014|015|016|\n",
      "(16, 16)"
     ]
    },
    {
     "name": "stderr",
     "output_type": "stream",
     "text": [
      "Overwritten attributes  conv_tol_residual  of <class 'pyscf.fci.direct_spin1.FCISolver'>\n"
     ]
    },
    {
     "name": "stdout",
     "output_type": "stream",
     "text": [
      " ooCMF Iter:    1 Total= -22.876153970278 Active= -45.594693272134 G=     1.48e-01\n"
     ]
    },
    {
     "name": "stdout",
     "output_type": "stream",
     "text": [
      " ooCMF Iter:    2 Total= -22.877403445953 Active= -45.595942747809 G=     1.10e-02\n"
     ]
    },
    {
     "name": "stdout",
     "output_type": "stream",
     "text": [
      " ooCMF Iter:    3 Total= -22.877409928849 Active= -45.595949230706 G=     1.48e-03\n"
     ]
    },
    {
     "name": "stdout",
     "output_type": "stream",
     "text": [
      " ooCMF Iter:    4 Total= -22.877409995615 Active= -45.595949297471 G=     1.06e-03\n"
     ]
    },
    {
     "name": "stdout",
     "output_type": "stream",
     "text": [
      " ooCMF Iter:    5 Total= -22.877410088114 Active= -45.595949389971 G=     6.01e-04\n"
     ]
    },
    {
     "name": "stdout",
     "output_type": "stream",
     "text": [
      " ooCMF Iter:    6 Total= -22.877410115945 Active= -45.595949417801 G=     4.31e-04\n"
     ]
    },
    {
     "name": "stdout",
     "output_type": "stream",
     "text": [
      " ooCMF Iter:    7 Total= -22.877410158244 Active= -45.595949460100 G=     7.53e-04\n"
     ]
    },
    {
     "name": "stdout",
     "output_type": "stream",
     "text": [
      " ooCMF Iter:    8 Total= -22.877410243942 Active= -45.595949545798 G=     1.41e-04\n"
     ]
    },
    {
     "name": "stdout",
     "output_type": "stream",
     "text": [
      " ooCMF Iter:    9 Total= -22.877410245058 Active= -45.595949546914 G=     1.47e-05\n"
     ]
    },
    {
     "name": "stdout",
     "output_type": "stream",
     "text": [
      " ooCMF Iter:   10 Total= -22.877410245112 Active= -45.595949546968 G=     2.63e-05\n"
     ]
    },
    {
     "name": "stdout",
     "output_type": "stream",
     "text": [
      " ooCMF Iter:   11 Total= -22.877410245704 Active= -45.595949547561 G=     3.67e-06\n"
     ]
    },
    {
     "name": "stdout",
     "output_type": "stream",
     "text": [
      " ooCMF Iter:   12 Total= -22.877410245705 Active= -45.595949547562 G=     9.41e-07\n"
     ]
    },
    {
     "name": "stdout",
     "output_type": "stream",
     "text": [
      " ooCMF Iter:   13 Total= -22.877410245707 Active= -45.595949547563 G=     3.26e-06\n"
     ]
    },
    {
     "name": "stdout",
     "output_type": "stream",
     "text": [
      " ooCMF Iter:   14 Total= -22.877410245707 Active= -45.595949547564 G=     1.68e-06\n"
     ]
    },
    {
     "name": "stdout",
     "output_type": "stream",
     "text": [
      " ooCMF Iter:   15 Total= -22.877410245707 Active= -45.595949547563 G=     2.52e-07\n"
     ]
    },
    {
     "name": "stdout",
     "output_type": "stream",
     "text": [
      " ooCMF Iter:   16 Total= -22.877410245709 Active= -45.595949547565 G=     6.36e-08\n"
     ]
    },
    {
     "name": "stdout",
     "output_type": "stream",
     "text": [
      " ooCMF Iter:   17 Total= -22.877410245706 Active= -45.595949547562 G=     8.47e-07\n"
     ]
    },
    {
     "name": "stdout",
     "output_type": "stream",
     "text": [
      " ooCMF Iter:   18 Total= -22.877410245700 Active= -45.595949547556 G=     8.54e-06\n"
     ]
    },
    {
     "name": "stdout",
     "output_type": "stream",
     "text": [
      " ooCMF Iter:   19 Total= -22.877410245682 Active= -45.595949547539 G=     4.71e-06\n"
     ]
    },
    {
     "name": "stdout",
     "output_type": "stream",
     "text": [
      " ooCMF Iter:   20 Total= -22.877410245523 Active= -45.595949547379 G=     4.56e-05\n"
     ]
    },
    {
     "name": "stdout",
     "output_type": "stream",
     "text": [
      " ooCMF Iter:   21 Total= -22.877410245380 Active= -45.595949547237 G=     9.50e-06\n"
     ]
    },
    {
     "name": "stdout",
     "output_type": "stream",
     "text": [
      " ooCMF Iter:   22 Total= -22.877410245107 Active= -45.595949546963 G=     1.42e-05\n"
     ]
    },
    {
     "name": "stdout",
     "output_type": "stream",
     "text": [
      " ooCMF Iter:   23 Total= -22.877410245426 Active= -45.595949547282 G=     6.06e-05\n"
     ]
    },
    {
     "name": "stdout",
     "output_type": "stream",
     "text": [
      " ooCMF Iter:   24 Total= -22.877410245585 Active= -45.595949547442 G=     4.15e-05\n"
     ]
    },
    {
     "name": "stdout",
     "output_type": "stream",
     "text": [
      " ooCMF Iter:   25 Total= -22.877410245491 Active= -45.595949547348 G=     6.08e-05\n"
     ]
    },
    {
     "name": "stdout",
     "output_type": "stream",
     "text": [
      " ooCMF Iter:   26 Total= -22.877410245367 Active= -45.595949547224 G=     7.03e-05\n"
     ]
    },
    {
     "name": "stdout",
     "output_type": "stream",
     "text": [
      " ooCMF Iter:   27 Total= -22.877410245625 Active= -45.595949547481 G=     3.57e-05\n"
     ]
    },
    {
     "name": "stdout",
     "output_type": "stream",
     "text": [
      " ooCMF Iter:   28 Total= -22.877410245679 Active= -45.595949547535 G=     2.20e-05\n"
     ]
    },
    {
     "name": "stdout",
     "output_type": "stream",
     "text": [
      " ooCMF Iter:   29 Total= -22.877410245681 Active= -45.595949547537 G=     2.13e-05\n"
     ]
    },
    {
     "name": "stdout",
     "output_type": "stream",
     "text": [
      " ooCMF Iter:   30 Total= -22.877410245701 Active= -45.595949547557 G=     1.09e-05\n"
     ]
    },
    {
     "name": "stdout",
     "output_type": "stream",
     "text": [
      " ooCMF Iter:   31 Total= -22.877410245704 Active= -45.595949547561 G=     6.29e-06\n"
     ]
    },
    {
     "name": "stdout",
     "output_type": "stream",
     "text": [
      " ooCMF Iter:   32 Total= -22.877410245706 Active= -45.595949547562 G=     5.98e-06\n"
     ]
    },
    {
     "name": "stdout",
     "output_type": "stream",
     "text": [
      " ooCMF Iter:   33 Total= -22.877410245706 Active= -45.595949547563 G=     3.21e-06\n"
     ]
    },
    {
     "name": "stdout",
     "output_type": "stream",
     "text": [
      " ooCMF Iter:   34 Total= -22.877410245707 Active= -45.595949547564 G=     3.11e-06\n"
     ]
    },
    {
     "name": "stdout",
     "output_type": "stream",
     "text": [
      " ooCMF Iter:   35 Total= -22.877410245707 Active= -45.595949547564 G=     2.63e-06\n"
     ]
    },
    {
     "name": "stdout",
     "output_type": "stream",
     "text": [
      " ooCMF Iter:   36 Total= -22.877410245707 Active= -45.595949547564 G=     7.49e-07\n"
     ]
    },
    {
     "name": "stdout",
     "output_type": "stream",
     "text": [
      " ooCMF Iter:   37 Total= -22.877410245708 Active= -45.595949547564 G=     9.23e-07\n"
     ]
    },
    {
     "name": "stdout",
     "output_type": "stream",
     "text": [
      " ooCMF Iter:   38 Total= -22.877410245708 Active= -45.595949547565 G=     8.68e-07\n"
     ]
    },
    {
     "name": "stdout",
     "output_type": "stream",
     "text": [
      " ooCMF Iter:   39 Total= -22.877410245708 Active= -45.595949547565 G=     1.05e-06\n"
     ]
    },
    {
     "name": "stdout",
     "output_type": "stream",
     "text": [
      " ooCMF Iter:   40 Total= -22.877410245709 Active= -45.595949547565 G=     1.02e-06\n"
     ]
    },
    {
     "name": "stdout",
     "output_type": "stream",
     "text": [
      " ooCMF Iter:   41 Total= -22.877410245708 Active= -45.595949547564 G=     3.49e-07\n"
     ]
    },
    {
     "name": "stdout",
     "output_type": "stream",
     "text": [
      " ooCMF Iter:   42 Total= -22.877410245707 Active= -45.595949547564 G=     3.26e-07\n"
     ]
    },
    {
     "name": "stdout",
     "output_type": "stream",
     "text": [
      " ooCMF Iter:   43 Total= -22.877410245709 Active= -45.595949547565 G=     6.89e-07\n"
     ]
    },
    {
     "name": "stdout",
     "output_type": "stream",
     "text": [
      " ooCMF Iter:   44 Total= -22.877410245708 Active= -45.595949547564 G=     9.01e-07\n"
     ]
    },
    {
     "name": "stdout",
     "output_type": "stream",
     "text": [
      " ooCMF Iter:   45 Total= -22.877410245708 Active= -45.595949547565 G=     6.81e-07\n"
     ]
    },
    {
     "name": "stdout",
     "output_type": "stream",
     "text": [
      " ooCMF Iter:   46 Total= -22.877410245708 Active= -45.595949547565 G=     4.84e-07\n"
     ]
    },
    {
     "name": "stdout",
     "output_type": "stream",
     "text": [
      " ooCMF Iter:   47 Total= -22.877410245708 Active= -45.595949547565 G=     3.01e-07\n"
     ]
    },
    {
     "name": "stdout",
     "output_type": "stream",
     "text": [
      " ooCMF Iter:   48 Total= -22.877410245708 Active= -45.595949547564 G=     3.57e-07\n"
     ]
    },
    {
     "name": "stdout",
     "output_type": "stream",
     "text": [
      " ooCMF Iter:   49 Total= -22.877410245709 Active= -45.595949547565 G=     4.26e-07\n"
     ]
    },
    {
     "name": "stdout",
     "output_type": "stream",
     "text": [
      " ooCMF Iter:   50 Total= -22.877410245708 Active= -45.595949547564 G=     2.07e-07\n"
     ]
    },
    {
     "name": "stdout",
     "output_type": "stream",
     "text": [
      " ooCMF Iter:   51 Total= -22.877410245708 Active= -45.595949547564 G=     1.36e-07\n"
     ]
    },
    {
     "data": {
      "text/plain": [
       " * Status: success\n",
       "\n",
       " * Candidate solution\n",
       "    Final objective value:     -2.287741e+01\n",
       "\n",
       " * Found with\n",
       "    Algorithm:     BFGS\n",
       "\n",
       " * Convergence measures\n",
       "    |x - x'|               = 0.00e+00 ≤ 0.0e+00\n",
       "    |x - x'|/|x'|          = 0.00e+00 ≤ 0.0e+00\n",
       "    |f(x) - f(x')|         = 1.78e-14 ≰ 0.0e+00\n",
       "    |f(x) - f(x')|/|f(x')| = 7.76e-16 ≰ 0.0e+00\n",
       "    |g(x)|                 = 3.95e-08 ≰ 1.0e-08\n",
       "\n",
       " * Work counters\n",
       "    Seconds run:   136  (vs limit Inf)\n",
       "    Iterations:    51\n",
       "    f(x) calls:    129\n",
       "    ∇f(x) calls:   129\n"
      ]
     },
     "metadata": {},
     "output_type": "display_data"
    },
    {
     "name": "stdout",
     "output_type": "stream",
     "text": [
      " ooCMF Iter:   52 Total= -22.877410245708 Active= -45.595949547564 G=     1.36e-07\n",
      "*ooCMF -22.87741025 \n"
     ]
    },
    {
     "name": "stdout",
     "output_type": "stream",
     "text": [
      "250.386630 seconds (261.38 M allocations: 17.178 GiB, 2.22% gc time, 44.99% compilation time)\n"
     ]
    },
    {
     "ename": "ErrorException",
     "evalue": "getindex not defined for RDM1{Float64}",
     "output_type": "error",
     "traceback": [
      "getindex not defined for RDM1{Float64}\n",
      "\n",
      "Stacktrace:\n",
      "  [1] error(::String, ::Type)\n",
      "    @ Base ./error.jl:42\n",
      "  [2] error_if_canonical_getindex(::IndexCartesian, ::RDM1{Float64}, ::Int64, ::Int64)\n",
      "    @ Base ./abstractarray.jl:1231\n",
      "  [3] getindex\n",
      "    @ ./abstractarray.jl:1217 [inlined]\n",
      "  [4] isassigned(::RDM1{Float64}, ::Int64, ::Int64)\n",
      "    @ Base ./abstractarray.jl:553\n",
      "  [5] _show_nonempty(io::IOContext{IOBuffer}, X::AbstractMatrix, prefix::String, drop_brackets::Bool, axs::Tuple{Base.OneTo{Int64}, Base.OneTo{Int64}})\n",
      "    @ Base ./arrayshow.jl:438\n",
      "  [6] _show_nonempty(io::IOContext{IOBuffer}, X::RDM1{Float64}, prefix::String)\n",
      "    @ Base ./arrayshow.jl:410\n",
      "  [7] show\n",
      "    @ ./arrayshow.jl:486 [inlined]\n",
      "  [8] show_delim_array(io::IOContext{IOBuffer}, itr::Tuple{Float64, Matrix{Float64}, RDM1{Float64}}, op::Char, delim::Char, cl::Char, delim_one::Bool, i1::Int64, n::Int64)\n",
      "    @ Base ./show.jl:1244\n",
      "  [9] show_delim_array\n",
      "    @ ./show.jl:1229 [inlined]\n",
      " [10] show\n",
      "    @ ./show.jl:1262 [inlined]\n",
      " [11] show\n",
      "    @ ./multimedia.jl:47 [inlined]\n",
      " [12] limitstringmime(mime::MIME{Symbol(\"text/plain\")}, x::Tuple{Float64, Matrix{Float64}, RDM1{Float64}})\n",
      "    @ VSCodeServer.IJuliaCore ~/.vscode/extensions/julialang.language-julia-1.47.2/scripts/packages/IJuliaCore/src/inline.jl:22\n",
      " [13] display_mimestring\n",
      "    @ ~/.vscode/extensions/julialang.language-julia-1.47.2/scripts/packages/IJuliaCore/src/display.jl:67 [inlined]\n",
      " [14] display_dict(x::Tuple{Float64, Matrix{Float64}, RDM1{Float64}})\n",
      "    @ VSCodeServer.IJuliaCore ~/.vscode/extensions/julialang.language-julia-1.47.2/scripts/packages/IJuliaCore/src/display.jl:98\n",
      " [15] display(#unused#::VSCodeServer.JuliaNotebookInlineDisplay, x::Tuple{Float64, Matrix{Float64}, RDM1{Float64}})\n",
      "    @ VSCodeServer ~/.vscode/extensions/julialang.language-julia-1.47.2/scripts/packages/VSCodeServer/src/notebookdisplay.jl:32\n",
      " [16] display(x::Any)\n",
      "    @ Base.Multimedia ./multimedia.jl:328\n",
      " [17] #invokelatest#2\n",
      "    @ ./essentials.jl:716 [inlined]\n",
      " [18] invokelatest\n",
      "    @ ./essentials.jl:714 [inlined]\n",
      " [19] (::VSCodeServer.var\"#198#199\"{VSCodeServer.NotebookRunCellArguments, String})()\n",
      "    @ VSCodeServer ~/.vscode/extensions/julialang.language-julia-1.47.2/scripts/packages/VSCodeServer/src/serve_notebook.jl:48\n",
      " [20] withpath(f::VSCodeServer.var\"#198#199\"{VSCodeServer.NotebookRunCellArguments, String}, path::String)\n",
      "    @ VSCodeServer ~/.vscode/extensions/julialang.language-julia-1.47.2/scripts/packages/VSCodeServer/src/repl.jl:249\n",
      " [21] notebook_runcell_request(conn::VSCodeServer.JSONRPC.JSONRPCEndpoint{Base.PipeEndpoint, Base.PipeEndpoint}, params::VSCodeServer.NotebookRunCellArguments)\n",
      "    @ VSCodeServer ~/.vscode/extensions/julialang.language-julia-1.47.2/scripts/packages/VSCodeServer/src/serve_notebook.jl:13\n",
      " [22] dispatch_msg(x::VSCodeServer.JSONRPC.JSONRPCEndpoint{Base.PipeEndpoint, Base.PipeEndpoint}, dispatcher::VSCodeServer.JSONRPC.MsgDispatcher, msg::Dict{String, Any})\n",
      "    @ VSCodeServer.JSONRPC ~/.vscode/extensions/julialang.language-julia-1.47.2/scripts/packages/JSONRPC/src/typed.jl:67\n",
      " [23] serve_notebook(pipename::String, outputchannel_logger::Base.CoreLogging.SimpleLogger; crashreporting_pipename::String)\n",
      "    @ VSCodeServer ~/.vscode/extensions/julialang.language-julia-1.47.2/scripts/packages/VSCodeServer/src/serve_notebook.jl:139\n",
      " [24] top-level scope\n",
      "    @ ~/.vscode/extensions/julialang.language-julia-1.47.2/scripts/notebook/notebook.jl:32"
     ]
    }
   ],
   "source": [
    "#Define clusters now using ClusterMeanField code\n",
    "clusters = [MOCluster(i,collect(clusters_in[i])) for i = 1:length(clusters_in)]\n",
    "display(clusters)\n",
    "\n",
    "print(size(ints.h1))\n",
    "rdm1 = zeros(size(ints.h1))\n",
    "\n",
    "#do a CMF calculation to optimize cluster orbitals\n",
    "\n",
    "@time e_cmf, U, d1 = ClusterMeanField.cmf_oo(ints, clusters, init_fspace, RDM1(n_orb(ints)),\n",
    "    verbose=0, gconv=1e-8,tol_d1=1e-12,tol_ci=1e-14,sequential=true, max_iter_oo=100)"
   ]
  },
  {
   "cell_type": "code",
   "execution_count": 7,
   "metadata": {},
   "outputs": [
    {
     "data": {
      "text/plain": [
       "2-element Vector{RASCIAnsatz}:\n",
       " RASCIAnsatz(8, 4, 4, 70, 70, 4900, 4900, [2, 4, 2], 4, 4)\n",
       " RASCIAnsatz(8, 4, 4, 70, 70, 4900, 4900, [2, 4, 2], 4, 4)"
      ]
     },
     "metadata": {},
     "output_type": "display_data"
    },
    {
     "name": "stdout",
     "output_type": "stream",
     "text": [
      " Solve OO-CMF with DIIS\n"
     ]
    },
    {
     "ename": "MethodError",
     "evalue": "MethodError: no method matching invariant_orbital_rotations(::RASCIAnsatz)\nClosest candidates are:\n  invariant_orbital_rotations(!Matched::Vector) at ~/.julia/packages/ActiveSpaceSolvers/dpMhJ/src/Helpers.jl:60",
     "output_type": "error",
     "traceback": [
      "MethodError: no method matching invariant_orbital_rotations(::RASCIAnsatz)\n",
      "Closest candidates are:\n",
      "  invariant_orbital_rotations(!Matched::Vector) at ~/.julia/packages/ActiveSpaceSolvers/dpMhJ/src/Helpers.jl:60\n",
      "\n",
      "Stacktrace:\n",
      " [1] projection_vector(ansatze::Vector{RASCIAnsatz}, norb::Int64)\n",
      "   @ ClusterMeanField ~/workspace/cmf/project_hessian_debug/ClusterMeanField.jl/src/incore_cmf.jl:1843\n",
      " [2] cmf_oo_diis(ints_in::InCoreInts{Float64}, clusters::Vector{MOCluster}, fspace::Vector{Tuple{Int64, Int64}}, ansatze::Vector{RASCIAnsatz}, dguess::RDM1{Float64}; maxiter_oo::Int64, maxiter_ci::Int64, maxiter_d1::Int64, tol_oo::Float64, tol_d1::Float64, tol_ci::Float64, verbose::Int64, max_ss_size::Int64, diis_start::Int64, alpha::Float64, zero_intra_rots::Bool, orb_hessian::Bool, sequential::Bool)\n",
      "   @ ClusterMeanField ~/workspace/cmf/project_hessian_debug/ClusterMeanField.jl/src/incore_cmf.jl:1446\n",
      " [3] top-level scope\n",
      "   @ ~/workspace/cmf/project_hessian_debug/ClusterMeanField.jl/examples/ras_two_benzene/ras_he8.ipynb:5"
     ]
    }
   ],
   "source": [
    "ansatze = [RASCIAnsatz(8, 4,4, (2,4,2), max_h=4, max_p=4), RASCIAnsatz(8,4,4,(2,4,2), max_h=4, max_p=4)] #FCI type RASCI calculation\n",
    "display(ansatze)\n",
    "\n",
    "rdm1 = zeros(size(ints.h1))\n",
    "e_cmf, U_cmf, d1  = ClusterMeanField.cmf_oo_diis(ints, clusters, init_fspace, ansatze, RDM1(rdm1, rdm1), maxiter_oo = 400, tol_oo=1e-8,tol_d1=1e-9, tol_ci=1e-10, verbose=0, diis_start=1);\n",
    "ints_cmf = orbital_rotation(ints,U_cmf)\n",
    "C_cmf = Cact*U_cmf\n",
    "e_cmf, U_n, d1_n = ClusterMeanField.cmf_oo_newton2(ints, clusters, init_fspace, ansatze,RDM1(rdm1, rdm1), maxiter_oo = 2500,\n",
    "                           tol_oo=1e-8, \n",
    "                           tol_d1=1e-9, \n",
    "                           tol_ci=1e-10,\n",
    "                           verbose=4, \n",
    "                           zero_intra_rots = true,\n",
    "                           sequential=true)\n",
    "ints_cmf = orbital_rotation(ints,U_n)\n",
    "C_cmf = Cact*U_n\n"
   ]
  },
  {
   "cell_type": "code",
   "execution_count": null,
   "metadata": {},
   "outputs": [],
   "source": [
    "ansatze = [RASCIAnsatz(8, 4,4, (2,4,2), max_h=0, max_p=0), RASCIAnsatz(8,4,4,(2,4,2), max_h=0, max_p=0)]#CASCI type RASCI calculation\n",
    "display(ansatze)\n",
    "rdm1 = zeros(size(ints.h1))\n",
    "e_cmf, U_cmf, d1  = ClusterMeanField.cmf_oo_diis(ints, clusters, init_fspace, ansatze, RDM1(rdm1, rdm1), maxiter_oo = 400, tol_oo=1e-8,tol_d1=1e-9, tol_ci=1e-10, verbose=0, diis_start=1);\n",
    "ints_cmf = orbital_rotation(ints,U_cmf)\n",
    "C_cmf = Cact*U_cmf\n",
    "e_cmf, U_n, d1_n = ClusterMeanField.cmf_oo_newton2(ints, clusters, init_fspace, ansatze,RDM1(rdm1, rdm1), maxiter_oo = 2500,\n",
    "                           tol_oo=1e-8, \n",
    "                           tol_d1=1e-9, \n",
    "                           tol_ci=1e-10,\n",
    "                           verbose=4, \n",
    "                           zero_intra_rots = true,\n",
    "                           sequential=true)\n",
    "ints_cmf = orbital_rotation(ints,U_n)\n",
    "C_cmf = Cact*U_n\n"
   ]
  },
  {
   "cell_type": "code",
   "execution_count": null,
   "metadata": {},
   "outputs": [],
   "source": [
    "ansatze = [RASCIAnsatz(8, 4,4, (2,4,2), max_h=2, max_p=2), RASCIAnsatz(8,4,4,(2,4,2), max_h=2, max_p=2)] #double excitation RASCI calculation\n",
    "display(ansatze)\n",
    "\n",
    "rdm1 = zeros(size(ints.h1))\n",
    "e_cmf, U_cmf, d1  = ClusterMeanField.cmf_oo_diis(ints, clusters, init_fspace, ansatze, RDM1(rdm1, rdm1), maxiter_oo = 400, tol_oo=1e-8,tol_d1=1e-9, tol_ci=1e-10, verbose=0, diis_start=1);\n",
    "ints_cmf = orbital_rotation(ints,U_cmf)\n",
    "C_cmf = Cact*U_cmf\n",
    "e_cmf, U_n, d1_n = ClusterMeanField.cmf_oo_newton2(ints, clusters, init_fspace, ansatze,RDM1(rdm1, rdm1), maxiter_oo = 2500,\n",
    "                           tol_oo=1e-8, \n",
    "                           tol_d1=1e-9, \n",
    "                           tol_ci=1e-10,\n",
    "                           verbose=4, \n",
    "                           zero_intra_rots = true,\n",
    "                           sequential=true)\n",
    "ints_cmf = orbital_rotation(ints,U_n)\n",
    "C_cmf = Cact*U_n\n",
    "\n",
    "\n",
    "\n"
   ]
  },
  {
   "cell_type": "code",
   "execution_count": null,
   "metadata": {},
   "outputs": [],
   "source": [
    "ansatze = [RASCIAnsatz(8, 4,4, (2,4,2), max_h=1, max_p=1), RASCIAnsatz(8,4,4,(2,4,2), max_h=1, max_p=1)]#Single excitation RASCI calculation\n",
    "display(ansatze)\n",
    "\n",
    "rdm1 = zeros(size(ints.h1))\n",
    "e_cmf, U_cmf, d1  = ClusterMeanField.cmf_oo_diis(ints, clusters, init_fspace, ansatze, RDM1(rdm1, rdm1), maxiter_oo = 400, tol_oo=1e-8,tol_d1=1e-9, tol_ci=1e-10, verbose=0, diis_start=1);\n",
    "ints_cmf = orbital_rotation(ints,U_cmf)\n",
    "C_cmf = Cact*U_cmf\n",
    "e_cmf, U_n, d1_n = ClusterMeanField.cmf_oo_newton2(ints, clusters, init_fspace, ansatze,RDM1(rdm1, rdm1), maxiter_oo = 2500,\n",
    "                           tol_oo=1e-8, \n",
    "                           tol_d1=1e-9, \n",
    "                           tol_ci=1e-10,\n",
    "                           verbose=4, \n",
    "                           zero_intra_rots = true,\n",
    "                           sequential=true)\n",
    "ints_cmf = orbital_rotation(ints,U_n)\n",
    "C_cmf = Cact*U_n"
   ]
  },
  {
   "cell_type": "code",
   "execution_count": null,
   "metadata": {},
   "outputs": [],
   "source": [
    "ansatze = [RASCIAnsatz(8, 4,4, (2,4,2), max_h=3, max_p=3), RASCIAnsatz(8,4,4,(2,4,2), max_h=3, max_p=3)] \n",
    "display(ansatze)\n",
    "\n",
    "rdm1 = zeros(size(ints.h1))\n",
    "e_cmf, U_cmf, d1  = ClusterMeanField.cmf_oo_diis(ints, clusters, init_fspace, ansatze, RDM1(rdm1, rdm1), maxiter_oo = 400, tol_oo=1e-8,tol_d1=1e-9, tol_ci=1e-10, verbose=0, diis_start=1);\n",
    "ints_cmf = orbital_rotation(ints,U_cmf)\n",
    "C_cmf = Cact*U_cmf\n",
    "e_cmf, U_n, d1_n = ClusterMeanField.cmf_oo_newton2(ints, clusters, init_fspace, ansatze,RDM1(rdm1, rdm1), maxiter_oo = 2500,\n",
    "                           tol_oo=1e-8, \n",
    "                           tol_d1=1e-9, \n",
    "                           tol_ci=1e-10,\n",
    "                           verbose=4, \n",
    "                           zero_intra_rots = true,\n",
    "                           sequential=true)\n",
    "ints_cmf = orbital_rotation(ints,U_n)\n",
    "C_cmf = Cact*U_n"
   ]
  }
 ],
 "metadata": {
  "kernelspec": {
   "display_name": "Julia 1.7.3",
   "language": "julia",
   "name": "julia-1.7"
  },
  "language_info": {
   "file_extension": ".jl",
   "mimetype": "application/julia",
   "name": "julia",
   "version": "1.7.3"
  },
  "orig_nbformat": 4
 },
 "nbformat": 4,
 "nbformat_minor": 2
}
