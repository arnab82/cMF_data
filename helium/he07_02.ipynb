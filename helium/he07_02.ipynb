{
 "cells": [
  {
   "cell_type": "code",
   "execution_count": 1,
   "id": "8d7bba69",
   "metadata": {},
   "outputs": [],
   "source": [
    "\n",
    "using ClusterMeanField\n",
    "using PyCall\n",
    "using LinearAlgebra\n",
    "using Printf\n",
    "using InCoreIntegrals\n",
    "using QCBase\n",
    "using ActiveSpaceSolvers\n",
    "using RDM"
   ]
  },
  {
   "cell_type": "code",
   "execution_count": 2,
   "id": "21de1d67",
   "metadata": {},
   "outputs": [
    {
     "name": "stdout",
     "output_type": "stream",
     "text": [
      "converged SCF energy = -19.974039418655\n",
      "size of Lowdin ortho AO's:(35, 35)\n"
     ]
    },
    {
     "name": "stderr",
     "output_type": "stream",
     "text": [
      "/Users/ayush/workspace/cmf/ClusterMeanField.jl/cmf_env/lib/python3.10/site-packages/pyscf/lib/misc.py:141: UserWarning: OpenMP is not available. Setting omp_threads to 1 has no effects.\n",
      "  warnings.warn('OpenMP is not available. '\n",
      "/Users/ayush/workspace/cmf/ClusterMeanField.jl/cmf_env/lib/python3.10/site-packages/pyscf/dft/libxc.py:772: UserWarning: Since PySCF-2.3, B3LYP (and B3P86) are changed to the VWN-RPA variant, the same to the B3LYP functional in Gaussian and ORCA (issue 1480). To restore the VWN5 definition, you can put the setting \"B3LYP_WITH_VWN5 = True\" in pyscf_conf.py\n",
      "  warnings.warn('Since PySCF-2.3, B3LYP (and B3P86) are changed to the VWN-RPA variant, '\n"
     ]
    }
   ],
   "source": [
    "molecule = \"\n",
    "He 0.00000000 0.00000000 0.00000000\n",
    "He 2.82842713 0.00000000 0.00000000\n",
    "He 0.00000000 2.82842713 0.00000000\n",
    "He 2.82842712 2.82842712 0.00000000\n",
    "He 1.41421356 1.41421356 2.00000000\n",
    "He 1.41421356 1.41421356 -2.00000000\n",
    "He 1.41421356 1.41421356 0.00000000\n",
    "\"\n",
    "atoms = []\n",
    "for (li,line) in enumerate(split(rstrip(lstrip(molecule)), \"\\n\"))\n",
    "    l = split(line)\n",
    "    push!(atoms, Atom(li, l[1], parse.(Float64,l[2:4])))\n",
    "end\n",
    "\n",
    "#basis = \"aug-cc-pvdz\" #9 orbs on each He\n",
    "basis = \"cc-pvdz\" #5 orbs on each He\n",
    "#basis = \"cc-pvtz\" # 6 orbs on each He\n",
    "#basis = \"sto-3g\"\n",
    "\n",
    "# Create FermiCG.Molecule type\n",
    "mol = Molecule(0,1,atoms,basis)\n",
    "\n",
    "pyscf = pyimport(\"pyscf\")\n",
    "pymol = pyscf.gto.Mole(atom=molecule, spin=0, charge=0, basis=basis)\n",
    "pymol.build()\n",
    "mf = pyscf.scf.RHF(pymol).run()\n",
    "s = mf.get_ovlp(pymol)\n",
    "\n",
    "lo = pyimport(\"pyscf.lo.orth\")\n",
    "lo_ao = lo.lowdin(s)\n",
    "println(\"size of Lowdin ortho AO's:\", size(lo_ao))\n",
    "\n",
    "ClusterMeanField.pyscf_write_molden(mol, lo_ao, filename=\"lowdin_ao_ccpvdz_he07_02.molden\")\n",
    "\n",
    "#write fci dump file from the modified mo coefficients\n",
    "tools = pyimport(\"pyscf.tools\")\n",
    "tools.fcidump.from_mo(pymol, \"fcidump.he07_02\", lo_ao)"
   ]
  },
  {
   "cell_type": "code",
   "execution_count": 3,
   "id": "60256fc2",
   "metadata": {},
   "outputs": [],
   "source": [
    "#Can just read in pyscf dump file for integrals (once you have already run an scf calculation)\n",
    "pyscf = pyimport(\"pyscf\");\n",
    "fcidump = pyimport(\"pyscf.tools.fcidump\");\n",
    "ctx = fcidump.read(\"fcidump.he07_02\");\n",
    "h = ctx[\"H1\"];\n",
    "g = ctx[\"H2\"];\n",
    "ecore = ctx[\"ECORE\"];\n",
    "g = pyscf.ao2mo.restore(\"1\", g, size(h,2))\n",
    "\n",
    "ints = InCoreInts(ecore,h,g);\n",
    "\n",
    "np=pyimport(\"numpy\")\n",
    "np.save(\"ints_h0_he07_02\",ints.h0)\n",
    "np.save(\"ints_h1_he07_02\",ints.h1)\n",
    "np.save(\"ints_h2_he07_02\",ints.h2)"
   ]
  },
  {
   "cell_type": "code",
   "execution_count": 7,
   "id": "08902221",
   "metadata": {},
   "outputs": [
    {
     "data": {
      "text/plain": [
       "8"
      ]
     },
     "execution_count": 7,
     "metadata": {},
     "output_type": "execute_result"
    }
   ],
   "source": [
    "#Define clusters and intial Fock space for inital CMF calc for 5 orbs each He\n",
    "clusters_in = [(1:5),(6:10), (11:15), (16:20), (21:25), (26:30), (31:35)]\n",
    "init_fspace = [(1,1),(1,1),(1,1),(1,1),(1,1),(1,1),(1,1)]\n",
    "rdm1 = zeros(size(ints.h1))\n",
    "na=7\n",
    "nb=7"
   ]
  }
 ],
 "metadata": {
  "kernelspec": {
   "display_name": "Julia 1.7.3",
   "language": "julia",
   "name": "julia-1.7"
  },
  "language_info": {
   "file_extension": ".jl",
   "mimetype": "application/julia",
   "name": "julia",
   "version": "1.7.3"
  }
 },
 "nbformat": 4,
 "nbformat_minor": 5
}
